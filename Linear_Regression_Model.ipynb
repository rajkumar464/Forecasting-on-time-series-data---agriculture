{
  "nbformat": 4,
  "nbformat_minor": 0,
  "metadata": {
    "colab": {
      "name": "Linear_Regression_Model.ipynb",
      "provenance": [],
      "collapsed_sections": [
        "yM9LXQyNl-Nz",
        "P0XFnZlthi7s",
        "vH67wsR6DUqs"
      ]
    },
    "kernelspec": {
      "name": "python3",
      "display_name": "Python 3"
    },
    "language_info": {
      "name": "python"
    }
  },
  "cells": [
    {
      "cell_type": "code",
      "execution_count": null,
      "metadata": {
        "id": "HmU-aZ0f7E35"
      },
      "outputs": [],
      "source": [
        "#importing packages\n",
        "import numpy as np\n",
        "import matplotlib.pyplot as plt\n",
        "import pandas as pd\n",
        "import os\n",
        "import glob"
      ]
    },
    {
      "cell_type": "code",
      "source": [
        "os.chdir('/content/drive/MyDrive/gro_homework')"
      ],
      "metadata": {
        "id": "vp-MRyTX7MXj"
      },
      "execution_count": null,
      "outputs": []
    },
    {
      "cell_type": "code",
      "source": [
        "df_prod = pd.read_csv('Production Quantity.csv', parse_dates=['start_date', 'end_date']) #parses the two columns as datetime format\n",
        "df_prod = df_prod.set_index(pd.to_datetime(df_prod['start_date'].dt.date)) #setting datetime value as datetimeindex\n",
        "df_prod = df_prod.drop(['start_date','end_date'], axis = 1) #dates are not required anymore"
      ],
      "metadata": {
        "id": "sNntVF2I76I7"
      },
      "execution_count": null,
      "outputs": []
    },
    {
      "cell_type": "code",
      "source": [
        "df_prod.info()"
      ],
      "metadata": {
        "colab": {
          "base_uri": "https://localhost:8080/"
        },
        "id": "D2dVl2Ur9xaW",
        "outputId": "f6fa4c90-7eb0-4b2a-cdea-99d22ee795d8"
      },
      "execution_count": null,
      "outputs": [
        {
          "output_type": "stream",
          "name": "stdout",
          "text": [
            "<class 'pandas.core.frame.DataFrame'>\n",
            "DatetimeIndex: 720 entries, 2015-01-01 to 2020-12-01\n",
            "Data columns (total 2 columns):\n",
            " #   Column     Non-Null Count  Dtype\n",
            "---  ------     --------------  -----\n",
            " 0   prod       720 non-null    int64\n",
            " 1   region_id  720 non-null    int64\n",
            "dtypes: int64(2)\n",
            "memory usage: 16.9 KB\n"
          ]
        }
      ]
    },
    {
      "cell_type": "code",
      "source": [
        "df_prod.head()"
      ],
      "metadata": {
        "colab": {
          "base_uri": "https://localhost:8080/",
          "height": 238
        },
        "id": "ZnaWhEI3APEu",
        "outputId": "02b2610a-b5fd-4cb6-96df-e0b79d3e35ff"
      },
      "execution_count": null,
      "outputs": [
        {
          "output_type": "execute_result",
          "data": {
            "text/plain": [
              "              prod  region_id\n",
              "start_date                   \n",
              "2015-01-01  171725         93\n",
              "2015-02-01  188325         93\n",
              "2015-03-01  247856         93\n",
              "2015-04-01  282791         93\n",
              "2015-05-01  291057         93"
            ],
            "text/html": [
              "\n",
              "  <div id=\"df-0a1f8f99-99d0-4465-b953-cb4c953a6c15\">\n",
              "    <div class=\"colab-df-container\">\n",
              "      <div>\n",
              "<style scoped>\n",
              "    .dataframe tbody tr th:only-of-type {\n",
              "        vertical-align: middle;\n",
              "    }\n",
              "\n",
              "    .dataframe tbody tr th {\n",
              "        vertical-align: top;\n",
              "    }\n",
              "\n",
              "    .dataframe thead th {\n",
              "        text-align: right;\n",
              "    }\n",
              "</style>\n",
              "<table border=\"1\" class=\"dataframe\">\n",
              "  <thead>\n",
              "    <tr style=\"text-align: right;\">\n",
              "      <th></th>\n",
              "      <th>prod</th>\n",
              "      <th>region_id</th>\n",
              "    </tr>\n",
              "    <tr>\n",
              "      <th>start_date</th>\n",
              "      <th></th>\n",
              "      <th></th>\n",
              "    </tr>\n",
              "  </thead>\n",
              "  <tbody>\n",
              "    <tr>\n",
              "      <th>2015-01-01</th>\n",
              "      <td>171725</td>\n",
              "      <td>93</td>\n",
              "    </tr>\n",
              "    <tr>\n",
              "      <th>2015-02-01</th>\n",
              "      <td>188325</td>\n",
              "      <td>93</td>\n",
              "    </tr>\n",
              "    <tr>\n",
              "      <th>2015-03-01</th>\n",
              "      <td>247856</td>\n",
              "      <td>93</td>\n",
              "    </tr>\n",
              "    <tr>\n",
              "      <th>2015-04-01</th>\n",
              "      <td>282791</td>\n",
              "      <td>93</td>\n",
              "    </tr>\n",
              "    <tr>\n",
              "      <th>2015-05-01</th>\n",
              "      <td>291057</td>\n",
              "      <td>93</td>\n",
              "    </tr>\n",
              "  </tbody>\n",
              "</table>\n",
              "</div>\n",
              "      <button class=\"colab-df-convert\" onclick=\"convertToInteractive('df-0a1f8f99-99d0-4465-b953-cb4c953a6c15')\"\n",
              "              title=\"Convert this dataframe to an interactive table.\"\n",
              "              style=\"display:none;\">\n",
              "        \n",
              "  <svg xmlns=\"http://www.w3.org/2000/svg\" height=\"24px\"viewBox=\"0 0 24 24\"\n",
              "       width=\"24px\">\n",
              "    <path d=\"M0 0h24v24H0V0z\" fill=\"none\"/>\n",
              "    <path d=\"M18.56 5.44l.94 2.06.94-2.06 2.06-.94-2.06-.94-.94-2.06-.94 2.06-2.06.94zm-11 1L8.5 8.5l.94-2.06 2.06-.94-2.06-.94L8.5 2.5l-.94 2.06-2.06.94zm10 10l.94 2.06.94-2.06 2.06-.94-2.06-.94-.94-2.06-.94 2.06-2.06.94z\"/><path d=\"M17.41 7.96l-1.37-1.37c-.4-.4-.92-.59-1.43-.59-.52 0-1.04.2-1.43.59L10.3 9.45l-7.72 7.72c-.78.78-.78 2.05 0 2.83L4 21.41c.39.39.9.59 1.41.59.51 0 1.02-.2 1.41-.59l7.78-7.78 2.81-2.81c.8-.78.8-2.07 0-2.86zM5.41 20L4 18.59l7.72-7.72 1.47 1.35L5.41 20z\"/>\n",
              "  </svg>\n",
              "      </button>\n",
              "      \n",
              "  <style>\n",
              "    .colab-df-container {\n",
              "      display:flex;\n",
              "      flex-wrap:wrap;\n",
              "      gap: 12px;\n",
              "    }\n",
              "\n",
              "    .colab-df-convert {\n",
              "      background-color: #E8F0FE;\n",
              "      border: none;\n",
              "      border-radius: 50%;\n",
              "      cursor: pointer;\n",
              "      display: none;\n",
              "      fill: #1967D2;\n",
              "      height: 32px;\n",
              "      padding: 0 0 0 0;\n",
              "      width: 32px;\n",
              "    }\n",
              "\n",
              "    .colab-df-convert:hover {\n",
              "      background-color: #E2EBFA;\n",
              "      box-shadow: 0px 1px 2px rgba(60, 64, 67, 0.3), 0px 1px 3px 1px rgba(60, 64, 67, 0.15);\n",
              "      fill: #174EA6;\n",
              "    }\n",
              "\n",
              "    [theme=dark] .colab-df-convert {\n",
              "      background-color: #3B4455;\n",
              "      fill: #D2E3FC;\n",
              "    }\n",
              "\n",
              "    [theme=dark] .colab-df-convert:hover {\n",
              "      background-color: #434B5C;\n",
              "      box-shadow: 0px 1px 3px 1px rgba(0, 0, 0, 0.15);\n",
              "      filter: drop-shadow(0px 1px 2px rgba(0, 0, 0, 0.3));\n",
              "      fill: #FFFFFF;\n",
              "    }\n",
              "  </style>\n",
              "\n",
              "      <script>\n",
              "        const buttonEl =\n",
              "          document.querySelector('#df-0a1f8f99-99d0-4465-b953-cb4c953a6c15 button.colab-df-convert');\n",
              "        buttonEl.style.display =\n",
              "          google.colab.kernel.accessAllowed ? 'block' : 'none';\n",
              "\n",
              "        async function convertToInteractive(key) {\n",
              "          const element = document.querySelector('#df-0a1f8f99-99d0-4465-b953-cb4c953a6c15');\n",
              "          const dataTable =\n",
              "            await google.colab.kernel.invokeFunction('convertToInteractive',\n",
              "                                                     [key], {});\n",
              "          if (!dataTable) return;\n",
              "\n",
              "          const docLinkHtml = 'Like what you see? Visit the ' +\n",
              "            '<a target=\"_blank\" href=https://colab.research.google.com/notebooks/data_table.ipynb>data table notebook</a>'\n",
              "            + ' to learn more about interactive tables.';\n",
              "          element.innerHTML = '';\n",
              "          dataTable['output_type'] = 'display_data';\n",
              "          await google.colab.output.renderOutput(dataTable, element);\n",
              "          const docLink = document.createElement('div');\n",
              "          docLink.innerHTML = docLinkHtml;\n",
              "          element.appendChild(docLink);\n",
              "        }\n",
              "      </script>\n",
              "    </div>\n",
              "  </div>\n",
              "  "
            ]
          },
          "metadata": {},
          "execution_count": 5
        }
      ]
    },
    {
      "cell_type": "markdown",
      "source": [
        "#### We do not know exactly how long it takes for the Grople fruit to reach maturity and be harvested. We also don't know how long it takes to manufacture the syrup from the fruit. I am making the following assumptions \n",
        "\n",
        "#### It takes 6 months for the fruit to grow and then be harvested.\n",
        "#### The syrup is manufactured on the same day the fruit is harvested.\n",
        "\n",
        "#### The first available monthly production quantity is from January 2015. This means that data averaged from June 2014 up till December 2014 will be related to the production quantity in January 2015. Similarly, data from July 2014 up till January 2015 will be related to the production quantity in February 2015. "
      ],
      "metadata": {
        "id": "9PJ0JDVNBjZ6"
      }
    },
    {
      "cell_type": "code",
      "source": [
        "def preprocess(file):\n",
        "  df = pd.read_csv(file, parse_dates=['start_date', 'end_date'])\n",
        "  df = df.drop(['end_date'], axis = 1)#either of the date columns provide enough info. They are duplicates anyway\n",
        "  df = df[~(df['start_date'] < '2014-06-01')]#Filtering for values from July 2014\n",
        "  df = df[~(df['start_date'] > '2020-11-30')]#Filtering for values until November 2020\n",
        "  df['start_date'] = pd.to_datetime(df['start_date'].dt.date)#The hours,minutes and seconds are irrelevant\n",
        "  \n",
        "  #First I will split this dataframe on their region IDs. This makes the aggregation process I am about to do next much easier\n",
        "  #dfdict will contain 10 dataframes, 1 for each region\n",
        "  \n",
        "  regions = df.region_id.unique()\n",
        "  dfdict = {elem : pd.DataFrame for elem in regions}\n",
        "  for key in dfdict.keys():\n",
        "    dfdict[key] = df[:][df.region_id == key]\n",
        "  for key in dfdict.keys():\n",
        "    dframe = dfdict[key]\n",
        "    #obtaining a monthly average\n",
        "    dframe = dframe.groupby(pd.Grouper(key = 'start_date',freq = 'M')).mean()\n",
        "    dfdict[key] = dframe\n",
        "  df = pd.DataFrame()\n",
        "  for key in dfdict.keys():\n",
        "    df = df.append(dfdict[key])\n",
        "  return df"
      ],
      "metadata": {
        "id": "wvmfQ5wzblLJ"
      },
      "execution_count": null,
      "outputs": []
    },
    {
      "cell_type": "code",
      "source": [
        "#reading in the files and preprocessing\n",
        "df_precip = preprocess('Daily Precipitation.csv')\n",
        "df_soil = preprocess('Daily Soil Mositure.csv')\n",
        "df_temp = preprocess('Daily Temperature.csv')\n",
        "df_ndvi = preprocess('Eight Day NDVI.csv')"
      ],
      "metadata": {
        "id": "JmyWH4woRMfL"
      },
      "execution_count": null,
      "outputs": []
    },
    {
      "cell_type": "code",
      "source": [
        "df_precip.head()"
      ],
      "metadata": {
        "colab": {
          "base_uri": "https://localhost:8080/",
          "height": 238
        },
        "id": "W_5aN35U9VEf",
        "outputId": "f544360a-b283-4e53-833c-da5e7cb0f79f"
      },
      "execution_count": null,
      "outputs": [
        {
          "output_type": "execute_result",
          "data": {
            "text/plain": [
              "              precip  region_id\n",
              "start_date                     \n",
              "2014-06-30  4.443490       93.0\n",
              "2014-07-31  5.095036       93.0\n",
              "2014-08-31  5.476608       93.0\n",
              "2014-09-30  5.269886       93.0\n",
              "2014-10-31  5.571791       93.0"
            ],
            "text/html": [
              "\n",
              "  <div id=\"df-a3c4e6a3-3809-4b1c-8704-e6a3e9d33520\">\n",
              "    <div class=\"colab-df-container\">\n",
              "      <div>\n",
              "<style scoped>\n",
              "    .dataframe tbody tr th:only-of-type {\n",
              "        vertical-align: middle;\n",
              "    }\n",
              "\n",
              "    .dataframe tbody tr th {\n",
              "        vertical-align: top;\n",
              "    }\n",
              "\n",
              "    .dataframe thead th {\n",
              "        text-align: right;\n",
              "    }\n",
              "</style>\n",
              "<table border=\"1\" class=\"dataframe\">\n",
              "  <thead>\n",
              "    <tr style=\"text-align: right;\">\n",
              "      <th></th>\n",
              "      <th>precip</th>\n",
              "      <th>region_id</th>\n",
              "    </tr>\n",
              "    <tr>\n",
              "      <th>start_date</th>\n",
              "      <th></th>\n",
              "      <th></th>\n",
              "    </tr>\n",
              "  </thead>\n",
              "  <tbody>\n",
              "    <tr>\n",
              "      <th>2014-06-30</th>\n",
              "      <td>4.443490</td>\n",
              "      <td>93.0</td>\n",
              "    </tr>\n",
              "    <tr>\n",
              "      <th>2014-07-31</th>\n",
              "      <td>5.095036</td>\n",
              "      <td>93.0</td>\n",
              "    </tr>\n",
              "    <tr>\n",
              "      <th>2014-08-31</th>\n",
              "      <td>5.476608</td>\n",
              "      <td>93.0</td>\n",
              "    </tr>\n",
              "    <tr>\n",
              "      <th>2014-09-30</th>\n",
              "      <td>5.269886</td>\n",
              "      <td>93.0</td>\n",
              "    </tr>\n",
              "    <tr>\n",
              "      <th>2014-10-31</th>\n",
              "      <td>5.571791</td>\n",
              "      <td>93.0</td>\n",
              "    </tr>\n",
              "  </tbody>\n",
              "</table>\n",
              "</div>\n",
              "      <button class=\"colab-df-convert\" onclick=\"convertToInteractive('df-a3c4e6a3-3809-4b1c-8704-e6a3e9d33520')\"\n",
              "              title=\"Convert this dataframe to an interactive table.\"\n",
              "              style=\"display:none;\">\n",
              "        \n",
              "  <svg xmlns=\"http://www.w3.org/2000/svg\" height=\"24px\"viewBox=\"0 0 24 24\"\n",
              "       width=\"24px\">\n",
              "    <path d=\"M0 0h24v24H0V0z\" fill=\"none\"/>\n",
              "    <path d=\"M18.56 5.44l.94 2.06.94-2.06 2.06-.94-2.06-.94-.94-2.06-.94 2.06-2.06.94zm-11 1L8.5 8.5l.94-2.06 2.06-.94-2.06-.94L8.5 2.5l-.94 2.06-2.06.94zm10 10l.94 2.06.94-2.06 2.06-.94-2.06-.94-.94-2.06-.94 2.06-2.06.94z\"/><path d=\"M17.41 7.96l-1.37-1.37c-.4-.4-.92-.59-1.43-.59-.52 0-1.04.2-1.43.59L10.3 9.45l-7.72 7.72c-.78.78-.78 2.05 0 2.83L4 21.41c.39.39.9.59 1.41.59.51 0 1.02-.2 1.41-.59l7.78-7.78 2.81-2.81c.8-.78.8-2.07 0-2.86zM5.41 20L4 18.59l7.72-7.72 1.47 1.35L5.41 20z\"/>\n",
              "  </svg>\n",
              "      </button>\n",
              "      \n",
              "  <style>\n",
              "    .colab-df-container {\n",
              "      display:flex;\n",
              "      flex-wrap:wrap;\n",
              "      gap: 12px;\n",
              "    }\n",
              "\n",
              "    .colab-df-convert {\n",
              "      background-color: #E8F0FE;\n",
              "      border: none;\n",
              "      border-radius: 50%;\n",
              "      cursor: pointer;\n",
              "      display: none;\n",
              "      fill: #1967D2;\n",
              "      height: 32px;\n",
              "      padding: 0 0 0 0;\n",
              "      width: 32px;\n",
              "    }\n",
              "\n",
              "    .colab-df-convert:hover {\n",
              "      background-color: #E2EBFA;\n",
              "      box-shadow: 0px 1px 2px rgba(60, 64, 67, 0.3), 0px 1px 3px 1px rgba(60, 64, 67, 0.15);\n",
              "      fill: #174EA6;\n",
              "    }\n",
              "\n",
              "    [theme=dark] .colab-df-convert {\n",
              "      background-color: #3B4455;\n",
              "      fill: #D2E3FC;\n",
              "    }\n",
              "\n",
              "    [theme=dark] .colab-df-convert:hover {\n",
              "      background-color: #434B5C;\n",
              "      box-shadow: 0px 1px 3px 1px rgba(0, 0, 0, 0.15);\n",
              "      filter: drop-shadow(0px 1px 2px rgba(0, 0, 0, 0.3));\n",
              "      fill: #FFFFFF;\n",
              "    }\n",
              "  </style>\n",
              "\n",
              "      <script>\n",
              "        const buttonEl =\n",
              "          document.querySelector('#df-a3c4e6a3-3809-4b1c-8704-e6a3e9d33520 button.colab-df-convert');\n",
              "        buttonEl.style.display =\n",
              "          google.colab.kernel.accessAllowed ? 'block' : 'none';\n",
              "\n",
              "        async function convertToInteractive(key) {\n",
              "          const element = document.querySelector('#df-a3c4e6a3-3809-4b1c-8704-e6a3e9d33520');\n",
              "          const dataTable =\n",
              "            await google.colab.kernel.invokeFunction('convertToInteractive',\n",
              "                                                     [key], {});\n",
              "          if (!dataTable) return;\n",
              "\n",
              "          const docLinkHtml = 'Like what you see? Visit the ' +\n",
              "            '<a target=\"_blank\" href=https://colab.research.google.com/notebooks/data_table.ipynb>data table notebook</a>'\n",
              "            + ' to learn more about interactive tables.';\n",
              "          element.innerHTML = '';\n",
              "          dataTable['output_type'] = 'display_data';\n",
              "          await google.colab.output.renderOutput(dataTable, element);\n",
              "          const docLink = document.createElement('div');\n",
              "          docLink.innerHTML = docLinkHtml;\n",
              "          element.appendChild(docLink);\n",
              "        }\n",
              "      </script>\n",
              "    </div>\n",
              "  </div>\n",
              "  "
            ]
          },
          "metadata": {},
          "execution_count": 8
        }
      ]
    },
    {
      "cell_type": "code",
      "source": [
        "df_ndvi.region_id.value_counts()"
      ],
      "metadata": {
        "colab": {
          "base_uri": "https://localhost:8080/"
        },
        "id": "ZYKBqYvK-JWJ",
        "outputId": "2ec03d8c-167d-43b5-c86b-8dc2d3b5f81a"
      },
      "execution_count": null,
      "outputs": [
        {
          "output_type": "execute_result",
          "data": {
            "text/plain": [
              "93.0     78\n",
              "94.0     78\n",
              "95.0     78\n",
              "98.0     78\n",
              "99.0     78\n",
              "102.0    78\n",
              "103.0    78\n",
              "97.0     77\n",
              "104.0    77\n",
              "105.0    76\n",
              "Name: region_id, dtype: int64"
            ]
          },
          "metadata": {},
          "execution_count": 9
        }
      ]
    },
    {
      "cell_type": "code",
      "source": [
        "df_precip.region_id.value_counts()"
      ],
      "metadata": {
        "colab": {
          "base_uri": "https://localhost:8080/"
        },
        "id": "xrrUX-YUlAHB",
        "outputId": "dc0f8886-e27b-4196-eb75-657a2145e911"
      },
      "execution_count": null,
      "outputs": [
        {
          "output_type": "execute_result",
          "data": {
            "text/plain": [
              "93.0     78\n",
              "94.0     78\n",
              "95.0     78\n",
              "97.0     78\n",
              "98.0     78\n",
              "99.0     78\n",
              "102.0    78\n",
              "103.0    78\n",
              "104.0    78\n",
              "105.0    78\n",
              "Name: region_id, dtype: int64"
            ]
          },
          "metadata": {},
          "execution_count": 10
        }
      ]
    },
    {
      "cell_type": "code",
      "source": [
        "df_temp.region_id.value_counts()"
      ],
      "metadata": {
        "id": "S6xIx-UBmA8w",
        "colab": {
          "base_uri": "https://localhost:8080/"
        },
        "outputId": "80b36ec1-7b30-4107-d5af-bfb9c7e75c90"
      },
      "execution_count": null,
      "outputs": [
        {
          "output_type": "execute_result",
          "data": {
            "text/plain": [
              "93.0     78\n",
              "94.0     78\n",
              "95.0     78\n",
              "97.0     78\n",
              "98.0     78\n",
              "99.0     78\n",
              "102.0    78\n",
              "103.0    78\n",
              "104.0    78\n",
              "105.0    78\n",
              "Name: region_id, dtype: int64"
            ]
          },
          "metadata": {},
          "execution_count": 11
        }
      ]
    },
    {
      "cell_type": "code",
      "source": [
        "df_soil.region_id.value_counts()"
      ],
      "metadata": {
        "id": "--rpBQPimDrQ",
        "colab": {
          "base_uri": "https://localhost:8080/"
        },
        "outputId": "08462373-281a-49bf-fd7e-cf122f562f1e"
      },
      "execution_count": null,
      "outputs": [
        {
          "output_type": "execute_result",
          "data": {
            "text/plain": [
              "93.0     78\n",
              "94.0     78\n",
              "95.0     78\n",
              "97.0     78\n",
              "98.0     78\n",
              "99.0     78\n",
              "102.0    78\n",
              "103.0    78\n",
              "104.0    78\n",
              "105.0    78\n",
              "Name: region_id, dtype: int64"
            ]
          },
          "metadata": {},
          "execution_count": 12
        }
      ]
    },
    {
      "cell_type": "markdown",
      "source": [
        "### It is observed that the NDVI dataframe is missing a couple of values. All the other dataframes have the same number of values per region ID."
      ],
      "metadata": {
        "id": "Rn5VCTbGgy2Y"
      }
    },
    {
      "cell_type": "markdown",
      "source": [
        "## Investigating the NDVI dataframe\n"
      ],
      "metadata": {
        "id": "nJG0waIx-GRu"
      }
    },
    {
      "cell_type": "code",
      "source": [
        "df_ndvi.isna().any()"
      ],
      "metadata": {
        "colab": {
          "base_uri": "https://localhost:8080/"
        },
        "id": "WeqSRo8r-RZ-",
        "outputId": "9685a7aa-53ce-44a8-a002-f49bb8ddb318"
      },
      "execution_count": null,
      "outputs": [
        {
          "output_type": "execute_result",
          "data": {
            "text/plain": [
              "ndvi         True\n",
              "region_id    True\n",
              "dtype: bool"
            ]
          },
          "metadata": {},
          "execution_count": 13
        }
      ]
    },
    {
      "cell_type": "code",
      "source": [
        "#deleting null values\n",
        "df_ndvi = df_ndvi.dropna()"
      ],
      "metadata": {
        "id": "syqT1xRvQcN3"
      },
      "execution_count": null,
      "outputs": []
    },
    {
      "cell_type": "markdown",
      "source": [
        "#### It is observed that the Eight-Day NDVI file has some missing values. I will replace these with the average NDVI"
      ],
      "metadata": {
        "id": "yM9LXQyNl-Nz"
      }
    },
    {
      "cell_type": "code",
      "source": [
        "regions = df_ndvi.region_id.unique()\n",
        "dfdict = {elem : pd.DataFrame for elem in regions}\n",
        "for key in dfdict.keys():\n",
        "  dfdict[key] = df_ndvi[:][df_ndvi.region_id == key]"
      ],
      "metadata": {
        "id": "piI_dNrqfTs8"
      },
      "execution_count": null,
      "outputs": []
    },
    {
      "cell_type": "code",
      "source": [
        "temp = dfdict[97.0]"
      ],
      "metadata": {
        "id": "kJe-nTu-zgdh"
      },
      "execution_count": null,
      "outputs": []
    },
    {
      "cell_type": "code",
      "source": [
        "my_range = pd.date_range(\n",
        "  start=\"2014-07-31\", end=\"2020-11-30\", freq='M') "
      ],
      "metadata": {
        "id": "RFJL5lTN52f7"
      },
      "execution_count": null,
      "outputs": []
    },
    {
      "cell_type": "code",
      "source": [
        "print(my_range.difference(temp.index))"
      ],
      "metadata": {
        "colab": {
          "base_uri": "https://localhost:8080/"
        },
        "id": "QBzCmD9X5_5v",
        "outputId": "7b05921b-4236-430e-b7df-d08bbf690c25"
      },
      "execution_count": null,
      "outputs": [
        {
          "output_type": "stream",
          "name": "stdout",
          "text": [
            "DatetimeIndex(['2016-11-30'], dtype='datetime64[ns]', freq=None)\n"
          ]
        }
      ]
    },
    {
      "cell_type": "code",
      "source": [
        "#filling in the missing date\n",
        "temp.loc[pd.to_datetime('2016-11-30')] = [temp['ndvi'].mean(), 97.0]\n",
        "temp = temp.sort_index()"
      ],
      "metadata": {
        "id": "8ym7FUYQTMFo"
      },
      "execution_count": null,
      "outputs": []
    },
    {
      "cell_type": "code",
      "source": [
        "temp.info()"
      ],
      "metadata": {
        "colab": {
          "base_uri": "https://localhost:8080/"
        },
        "id": "gIO7fCJuUUxs",
        "outputId": "96edb55d-6601-43a8-d8ae-84adae3b759e"
      },
      "execution_count": null,
      "outputs": [
        {
          "output_type": "stream",
          "name": "stdout",
          "text": [
            "<class 'pandas.core.frame.DataFrame'>\n",
            "DatetimeIndex: 78 entries, 2014-06-30 to 2020-11-30\n",
            "Data columns (total 2 columns):\n",
            " #   Column     Non-Null Count  Dtype  \n",
            "---  ------     --------------  -----  \n",
            " 0   ndvi       78 non-null     float64\n",
            " 1   region_id  78 non-null     float64\n",
            "dtypes: float64(2)\n",
            "memory usage: 1.8 KB\n"
          ]
        }
      ]
    },
    {
      "cell_type": "code",
      "source": [
        "dfdict[97.0] = temp"
      ],
      "metadata": {
        "id": "UrP5WtP7f-un"
      },
      "execution_count": null,
      "outputs": []
    },
    {
      "cell_type": "code",
      "source": [
        "temp = dfdict[104.0]\n",
        "print(my_range.difference(temp.index))"
      ],
      "metadata": {
        "colab": {
          "base_uri": "https://localhost:8080/"
        },
        "id": "OQp6QzVUgDYR",
        "outputId": "99ab6010-444f-4ee1-cfbf-8100a03b4e1f"
      },
      "execution_count": null,
      "outputs": [
        {
          "output_type": "stream",
          "name": "stdout",
          "text": [
            "DatetimeIndex(['2016-11-30'], dtype='datetime64[ns]', freq=None)\n"
          ]
        }
      ]
    },
    {
      "cell_type": "code",
      "source": [
        "temp.loc[pd.to_datetime('2016-11-30')] = [temp['ndvi'].mean(), 104.0]\n",
        "temp = temp.sort_index()"
      ],
      "metadata": {
        "id": "Ofxobuu4gQDM"
      },
      "execution_count": null,
      "outputs": []
    },
    {
      "cell_type": "code",
      "source": [
        "dfdict[104.0] = temp"
      ],
      "metadata": {
        "id": "nPcUa3GxgWj3"
      },
      "execution_count": null,
      "outputs": []
    },
    {
      "cell_type": "code",
      "source": [
        "temp = dfdict[105.0]\n",
        "print(my_range.difference(temp.index))"
      ],
      "metadata": {
        "colab": {
          "base_uri": "https://localhost:8080/"
        },
        "id": "BSR09ujjg43M",
        "outputId": "92c72357-a3f9-4f9a-89c2-7c0decd24520"
      },
      "execution_count": null,
      "outputs": [
        {
          "output_type": "stream",
          "name": "stdout",
          "text": [
            "DatetimeIndex(['2016-11-30', '2018-01-31'], dtype='datetime64[ns]', freq=None)\n"
          ]
        }
      ]
    },
    {
      "cell_type": "code",
      "source": [
        "temp.loc[pd.to_datetime('2016-11-30')] = [temp['ndvi'].mean(), 105.0]\n",
        "temp.loc[pd.to_datetime('2018-01-31')] = [temp['ndvi'].mean(), 105.0]\n",
        "temp = temp.sort_index()"
      ],
      "metadata": {
        "id": "TGhHqO3zhBMA"
      },
      "execution_count": null,
      "outputs": []
    },
    {
      "cell_type": "code",
      "source": [
        "dfdict[105.0] = temp"
      ],
      "metadata": {
        "id": "T5zi46syhL-G"
      },
      "execution_count": null,
      "outputs": []
    },
    {
      "cell_type": "code",
      "source": [
        "df = pd.DataFrame()\n",
        "for key in dfdict.keys():\n",
        "  df = df.append(dfdict[key])\n",
        "df_ndvi = df"
      ],
      "metadata": {
        "id": "MTcHeLP7hOky"
      },
      "execution_count": null,
      "outputs": []
    },
    {
      "cell_type": "code",
      "source": [
        "df_ndvi.region_id.value_counts()"
      ],
      "metadata": {
        "colab": {
          "base_uri": "https://localhost:8080/"
        },
        "id": "KMtaDw7ohfHn",
        "outputId": "078f3194-61cf-4ef7-9595-517593cd923c"
      },
      "execution_count": null,
      "outputs": [
        {
          "output_type": "execute_result",
          "data": {
            "text/plain": [
              "93.0     78\n",
              "94.0     78\n",
              "95.0     78\n",
              "97.0     78\n",
              "98.0     78\n",
              "99.0     78\n",
              "102.0    78\n",
              "103.0    78\n",
              "104.0    78\n",
              "105.0    78\n",
              "Name: region_id, dtype: int64"
            ]
          },
          "metadata": {},
          "execution_count": 29
        }
      ]
    },
    {
      "cell_type": "code",
      "source": [
        "df_precip.region_id.value_counts()"
      ],
      "metadata": {
        "colab": {
          "base_uri": "https://localhost:8080/"
        },
        "id": "VQAZTJtAwJBH",
        "outputId": "e805f174-5536-437c-e3e1-2f2bbef6fbaf"
      },
      "execution_count": null,
      "outputs": [
        {
          "output_type": "execute_result",
          "data": {
            "text/plain": [
              "93.0     78\n",
              "94.0     78\n",
              "95.0     78\n",
              "97.0     78\n",
              "98.0     78\n",
              "99.0     78\n",
              "102.0    78\n",
              "103.0    78\n",
              "104.0    78\n",
              "105.0    78\n",
              "Name: region_id, dtype: int64"
            ]
          },
          "metadata": {},
          "execution_count": 30
        }
      ]
    },
    {
      "cell_type": "markdown",
      "source": [
        "#### Now we have filled in all the missing values"
      ],
      "metadata": {
        "id": "P0XFnZlthi7s"
      }
    },
    {
      "cell_type": "markdown",
      "source": [
        "##Calculating the average of values over 6 months for each production month. "
      ],
      "metadata": {
        "id": "1c9XRRthzge2"
      }
    },
    {
      "cell_type": "code",
      "source": [
        "precip = []\n",
        "for val in df_precip.region_id.unique():\n",
        "  arr = []\n",
        "  df = df_precip.loc[df_precip['region_id'] == val]\n",
        "  for i in range(df.shape[0]-6):\n",
        "    arr.append(df.iloc[i:i+6]['precip'].mean())\n",
        "  precip+=arr"
      ],
      "metadata": {
        "id": "PJX8V1rtco15"
      },
      "execution_count": null,
      "outputs": []
    },
    {
      "cell_type": "code",
      "source": [
        "temperature = []\n",
        "for val in df_temp.region_id.unique():\n",
        "  arr = []\n",
        "  df = df_temp.loc[df_temp['region_id'] == val]\n",
        "  for i in range(df.shape[0]-6):\n",
        "    arr.append(df.iloc[i:i+6]['temp'].mean())\n",
        "  temperature+=arr"
      ],
      "metadata": {
        "id": "UzeKqHARznYo"
      },
      "execution_count": null,
      "outputs": []
    },
    {
      "cell_type": "code",
      "source": [
        "smos = []\n",
        "for val in df_soil.region_id.unique():\n",
        "  arr = []\n",
        "  df = df_soil.loc[df_soil['region_id'] == val]\n",
        "  for i in range(df.shape[0]-6):\n",
        "    arr.append(df.iloc[i:i+6]['smos'].mean())\n",
        "  smos+=arr"
      ],
      "metadata": {
        "id": "K6MwRFUf2PMr"
      },
      "execution_count": null,
      "outputs": []
    },
    {
      "cell_type": "code",
      "source": [
        "ndvi = []\n",
        "for val in df_ndvi.region_id.unique():\n",
        "  arr = []\n",
        "  df = df_ndvi.loc[df_ndvi['region_id'] == val]\n",
        "  for i in range(df.shape[0]-6):\n",
        "    arr.append(df.iloc[i:i+6]['ndvi'].mean())\n",
        "  ndvi+=arr"
      ],
      "metadata": {
        "id": "M5jRQmbA2ns6"
      },
      "execution_count": null,
      "outputs": []
    },
    {
      "cell_type": "code",
      "source": [
        "df_prod.info()"
      ],
      "metadata": {
        "id": "2ri9nun0ZwtR",
        "colab": {
          "base_uri": "https://localhost:8080/"
        },
        "outputId": "673e9611-d24d-4e90-9c90-f5775c7d9118"
      },
      "execution_count": null,
      "outputs": [
        {
          "output_type": "stream",
          "name": "stdout",
          "text": [
            "<class 'pandas.core.frame.DataFrame'>\n",
            "DatetimeIndex: 720 entries, 2015-01-01 to 2020-12-01\n",
            "Data columns (total 2 columns):\n",
            " #   Column     Non-Null Count  Dtype\n",
            "---  ------     --------------  -----\n",
            " 0   prod       720 non-null    int64\n",
            " 1   region_id  720 non-null    int64\n",
            "dtypes: int64(2)\n",
            "memory usage: 16.9 KB\n"
          ]
        }
      ]
    },
    {
      "cell_type": "markdown",
      "source": [
        "## Appending the averaged values to the production quantity dataframe"
      ],
      "metadata": {
        "id": "A0XnJN1T2zqj"
      }
    },
    {
      "cell_type": "code",
      "source": [
        "df_prod['precip'] = precip\n",
        "df_prod['temp'] = temperature\n",
        "df_prod['smos'] = smos\n",
        "df_prod['ndvi'] = ndvi"
      ],
      "metadata": {
        "id": "9HJewh5u288k"
      },
      "execution_count": null,
      "outputs": []
    },
    {
      "cell_type": "code",
      "source": [
        "df_prod.info()"
      ],
      "metadata": {
        "colab": {
          "base_uri": "https://localhost:8080/"
        },
        "id": "I9frAdO03JZN",
        "outputId": "4e403645-e368-4e56-95dd-19422d2ed1fd"
      },
      "execution_count": null,
      "outputs": [
        {
          "output_type": "stream",
          "name": "stdout",
          "text": [
            "<class 'pandas.core.frame.DataFrame'>\n",
            "DatetimeIndex: 720 entries, 2015-01-01 to 2020-12-01\n",
            "Data columns (total 6 columns):\n",
            " #   Column     Non-Null Count  Dtype  \n",
            "---  ------     --------------  -----  \n",
            " 0   prod       720 non-null    int64  \n",
            " 1   region_id  720 non-null    int64  \n",
            " 2   precip     720 non-null    float64\n",
            " 3   temp       720 non-null    float64\n",
            " 4   smos       720 non-null    float64\n",
            " 5   ndvi       720 non-null    float64\n",
            "dtypes: float64(4), int64(2)\n",
            "memory usage: 39.4 KB\n"
          ]
        }
      ]
    },
    {
      "cell_type": "code",
      "source": [
        "df_prod.head()"
      ],
      "metadata": {
        "colab": {
          "base_uri": "https://localhost:8080/",
          "height": 238
        },
        "id": "rl4wgfMS3K6W",
        "outputId": "10e502d1-a564-4c5f-91a3-c8ada5050363"
      },
      "execution_count": null,
      "outputs": [
        {
          "output_type": "execute_result",
          "data": {
            "text/plain": [
              "              prod  region_id    precip       temp      smos      ndvi\n",
              "start_date                                                            \n",
              "2015-01-01  171725         93  5.973499  26.327291  0.299227  0.778475\n",
              "2015-02-01  188325         93  7.276377  26.161226  0.300520  0.769292\n",
              "2015-03-01  247856         93  7.159613  26.042288  0.302237  0.766905\n",
              "2015-04-01  282791         93  6.447868  26.297789  0.296906  0.761228\n",
              "2015-05-01  291057         93  6.145329  26.343127  0.284202  0.755204"
            ],
            "text/html": [
              "\n",
              "  <div id=\"df-06e83bb3-f876-4126-8092-22f97454b095\">\n",
              "    <div class=\"colab-df-container\">\n",
              "      <div>\n",
              "<style scoped>\n",
              "    .dataframe tbody tr th:only-of-type {\n",
              "        vertical-align: middle;\n",
              "    }\n",
              "\n",
              "    .dataframe tbody tr th {\n",
              "        vertical-align: top;\n",
              "    }\n",
              "\n",
              "    .dataframe thead th {\n",
              "        text-align: right;\n",
              "    }\n",
              "</style>\n",
              "<table border=\"1\" class=\"dataframe\">\n",
              "  <thead>\n",
              "    <tr style=\"text-align: right;\">\n",
              "      <th></th>\n",
              "      <th>prod</th>\n",
              "      <th>region_id</th>\n",
              "      <th>precip</th>\n",
              "      <th>temp</th>\n",
              "      <th>smos</th>\n",
              "      <th>ndvi</th>\n",
              "    </tr>\n",
              "    <tr>\n",
              "      <th>start_date</th>\n",
              "      <th></th>\n",
              "      <th></th>\n",
              "      <th></th>\n",
              "      <th></th>\n",
              "      <th></th>\n",
              "      <th></th>\n",
              "    </tr>\n",
              "  </thead>\n",
              "  <tbody>\n",
              "    <tr>\n",
              "      <th>2015-01-01</th>\n",
              "      <td>171725</td>\n",
              "      <td>93</td>\n",
              "      <td>5.973499</td>\n",
              "      <td>26.327291</td>\n",
              "      <td>0.299227</td>\n",
              "      <td>0.778475</td>\n",
              "    </tr>\n",
              "    <tr>\n",
              "      <th>2015-02-01</th>\n",
              "      <td>188325</td>\n",
              "      <td>93</td>\n",
              "      <td>7.276377</td>\n",
              "      <td>26.161226</td>\n",
              "      <td>0.300520</td>\n",
              "      <td>0.769292</td>\n",
              "    </tr>\n",
              "    <tr>\n",
              "      <th>2015-03-01</th>\n",
              "      <td>247856</td>\n",
              "      <td>93</td>\n",
              "      <td>7.159613</td>\n",
              "      <td>26.042288</td>\n",
              "      <td>0.302237</td>\n",
              "      <td>0.766905</td>\n",
              "    </tr>\n",
              "    <tr>\n",
              "      <th>2015-04-01</th>\n",
              "      <td>282791</td>\n",
              "      <td>93</td>\n",
              "      <td>6.447868</td>\n",
              "      <td>26.297789</td>\n",
              "      <td>0.296906</td>\n",
              "      <td>0.761228</td>\n",
              "    </tr>\n",
              "    <tr>\n",
              "      <th>2015-05-01</th>\n",
              "      <td>291057</td>\n",
              "      <td>93</td>\n",
              "      <td>6.145329</td>\n",
              "      <td>26.343127</td>\n",
              "      <td>0.284202</td>\n",
              "      <td>0.755204</td>\n",
              "    </tr>\n",
              "  </tbody>\n",
              "</table>\n",
              "</div>\n",
              "      <button class=\"colab-df-convert\" onclick=\"convertToInteractive('df-06e83bb3-f876-4126-8092-22f97454b095')\"\n",
              "              title=\"Convert this dataframe to an interactive table.\"\n",
              "              style=\"display:none;\">\n",
              "        \n",
              "  <svg xmlns=\"http://www.w3.org/2000/svg\" height=\"24px\"viewBox=\"0 0 24 24\"\n",
              "       width=\"24px\">\n",
              "    <path d=\"M0 0h24v24H0V0z\" fill=\"none\"/>\n",
              "    <path d=\"M18.56 5.44l.94 2.06.94-2.06 2.06-.94-2.06-.94-.94-2.06-.94 2.06-2.06.94zm-11 1L8.5 8.5l.94-2.06 2.06-.94-2.06-.94L8.5 2.5l-.94 2.06-2.06.94zm10 10l.94 2.06.94-2.06 2.06-.94-2.06-.94-.94-2.06-.94 2.06-2.06.94z\"/><path d=\"M17.41 7.96l-1.37-1.37c-.4-.4-.92-.59-1.43-.59-.52 0-1.04.2-1.43.59L10.3 9.45l-7.72 7.72c-.78.78-.78 2.05 0 2.83L4 21.41c.39.39.9.59 1.41.59.51 0 1.02-.2 1.41-.59l7.78-7.78 2.81-2.81c.8-.78.8-2.07 0-2.86zM5.41 20L4 18.59l7.72-7.72 1.47 1.35L5.41 20z\"/>\n",
              "  </svg>\n",
              "      </button>\n",
              "      \n",
              "  <style>\n",
              "    .colab-df-container {\n",
              "      display:flex;\n",
              "      flex-wrap:wrap;\n",
              "      gap: 12px;\n",
              "    }\n",
              "\n",
              "    .colab-df-convert {\n",
              "      background-color: #E8F0FE;\n",
              "      border: none;\n",
              "      border-radius: 50%;\n",
              "      cursor: pointer;\n",
              "      display: none;\n",
              "      fill: #1967D2;\n",
              "      height: 32px;\n",
              "      padding: 0 0 0 0;\n",
              "      width: 32px;\n",
              "    }\n",
              "\n",
              "    .colab-df-convert:hover {\n",
              "      background-color: #E2EBFA;\n",
              "      box-shadow: 0px 1px 2px rgba(60, 64, 67, 0.3), 0px 1px 3px 1px rgba(60, 64, 67, 0.15);\n",
              "      fill: #174EA6;\n",
              "    }\n",
              "\n",
              "    [theme=dark] .colab-df-convert {\n",
              "      background-color: #3B4455;\n",
              "      fill: #D2E3FC;\n",
              "    }\n",
              "\n",
              "    [theme=dark] .colab-df-convert:hover {\n",
              "      background-color: #434B5C;\n",
              "      box-shadow: 0px 1px 3px 1px rgba(0, 0, 0, 0.15);\n",
              "      filter: drop-shadow(0px 1px 2px rgba(0, 0, 0, 0.3));\n",
              "      fill: #FFFFFF;\n",
              "    }\n",
              "  </style>\n",
              "\n",
              "      <script>\n",
              "        const buttonEl =\n",
              "          document.querySelector('#df-06e83bb3-f876-4126-8092-22f97454b095 button.colab-df-convert');\n",
              "        buttonEl.style.display =\n",
              "          google.colab.kernel.accessAllowed ? 'block' : 'none';\n",
              "\n",
              "        async function convertToInteractive(key) {\n",
              "          const element = document.querySelector('#df-06e83bb3-f876-4126-8092-22f97454b095');\n",
              "          const dataTable =\n",
              "            await google.colab.kernel.invokeFunction('convertToInteractive',\n",
              "                                                     [key], {});\n",
              "          if (!dataTable) return;\n",
              "\n",
              "          const docLinkHtml = 'Like what you see? Visit the ' +\n",
              "            '<a target=\"_blank\" href=https://colab.research.google.com/notebooks/data_table.ipynb>data table notebook</a>'\n",
              "            + ' to learn more about interactive tables.';\n",
              "          element.innerHTML = '';\n",
              "          dataTable['output_type'] = 'display_data';\n",
              "          await google.colab.output.renderOutput(dataTable, element);\n",
              "          const docLink = document.createElement('div');\n",
              "          docLink.innerHTML = docLinkHtml;\n",
              "          element.appendChild(docLink);\n",
              "        }\n",
              "      </script>\n",
              "    </div>\n",
              "  </div>\n",
              "  "
            ]
          },
          "metadata": {},
          "execution_count": 39
        }
      ]
    },
    {
      "cell_type": "markdown",
      "source": [
        "## Normalizing the features"
      ],
      "metadata": {
        "id": "uljcJJRD4hfa"
      }
    },
    {
      "cell_type": "code",
      "source": [
        "df_min_max_scaled = df_prod.copy()\n",
        "for column in ['precip','temp','smos','ndvi']:\n",
        "  df_min_max_scaled[column] = (df_min_max_scaled[column] - df_min_max_scaled[column].min()) / (df_min_max_scaled[column].max() - df_min_max_scaled[column].min())"
      ],
      "metadata": {
        "id": "jJDymElL4kvp"
      },
      "execution_count": null,
      "outputs": []
    },
    {
      "cell_type": "code",
      "source": [
        "df_min_max_scaled.head()"
      ],
      "metadata": {
        "colab": {
          "base_uri": "https://localhost:8080/",
          "height": 238
        },
        "id": "Of8_POeh7-kv",
        "outputId": "e0c92981-a4ee-4124-c081-2937b10f4d76"
      },
      "execution_count": null,
      "outputs": [
        {
          "output_type": "execute_result",
          "data": {
            "text/plain": [
              "              prod  region_id    precip      temp      smos      ndvi\n",
              "start_date                                                           \n",
              "2015-01-01  171725         93  0.257416  0.406820  0.752068  0.443201\n",
              "2015-02-01  188325         93  0.375302  0.378671  0.756819  0.361563\n",
              "2015-03-01  247856         93  0.364737  0.358510  0.763127  0.340342\n",
              "2015-04-01  282791         93  0.300337  0.401819  0.743539  0.289872\n",
              "2015-05-01  291057         93  0.272963  0.409505  0.696863  0.236317"
            ],
            "text/html": [
              "\n",
              "  <div id=\"df-2d7e6f82-010b-4b10-b887-df2773c04c68\">\n",
              "    <div class=\"colab-df-container\">\n",
              "      <div>\n",
              "<style scoped>\n",
              "    .dataframe tbody tr th:only-of-type {\n",
              "        vertical-align: middle;\n",
              "    }\n",
              "\n",
              "    .dataframe tbody tr th {\n",
              "        vertical-align: top;\n",
              "    }\n",
              "\n",
              "    .dataframe thead th {\n",
              "        text-align: right;\n",
              "    }\n",
              "</style>\n",
              "<table border=\"1\" class=\"dataframe\">\n",
              "  <thead>\n",
              "    <tr style=\"text-align: right;\">\n",
              "      <th></th>\n",
              "      <th>prod</th>\n",
              "      <th>region_id</th>\n",
              "      <th>precip</th>\n",
              "      <th>temp</th>\n",
              "      <th>smos</th>\n",
              "      <th>ndvi</th>\n",
              "    </tr>\n",
              "    <tr>\n",
              "      <th>start_date</th>\n",
              "      <th></th>\n",
              "      <th></th>\n",
              "      <th></th>\n",
              "      <th></th>\n",
              "      <th></th>\n",
              "      <th></th>\n",
              "    </tr>\n",
              "  </thead>\n",
              "  <tbody>\n",
              "    <tr>\n",
              "      <th>2015-01-01</th>\n",
              "      <td>171725</td>\n",
              "      <td>93</td>\n",
              "      <td>0.257416</td>\n",
              "      <td>0.406820</td>\n",
              "      <td>0.752068</td>\n",
              "      <td>0.443201</td>\n",
              "    </tr>\n",
              "    <tr>\n",
              "      <th>2015-02-01</th>\n",
              "      <td>188325</td>\n",
              "      <td>93</td>\n",
              "      <td>0.375302</td>\n",
              "      <td>0.378671</td>\n",
              "      <td>0.756819</td>\n",
              "      <td>0.361563</td>\n",
              "    </tr>\n",
              "    <tr>\n",
              "      <th>2015-03-01</th>\n",
              "      <td>247856</td>\n",
              "      <td>93</td>\n",
              "      <td>0.364737</td>\n",
              "      <td>0.358510</td>\n",
              "      <td>0.763127</td>\n",
              "      <td>0.340342</td>\n",
              "    </tr>\n",
              "    <tr>\n",
              "      <th>2015-04-01</th>\n",
              "      <td>282791</td>\n",
              "      <td>93</td>\n",
              "      <td>0.300337</td>\n",
              "      <td>0.401819</td>\n",
              "      <td>0.743539</td>\n",
              "      <td>0.289872</td>\n",
              "    </tr>\n",
              "    <tr>\n",
              "      <th>2015-05-01</th>\n",
              "      <td>291057</td>\n",
              "      <td>93</td>\n",
              "      <td>0.272963</td>\n",
              "      <td>0.409505</td>\n",
              "      <td>0.696863</td>\n",
              "      <td>0.236317</td>\n",
              "    </tr>\n",
              "  </tbody>\n",
              "</table>\n",
              "</div>\n",
              "      <button class=\"colab-df-convert\" onclick=\"convertToInteractive('df-2d7e6f82-010b-4b10-b887-df2773c04c68')\"\n",
              "              title=\"Convert this dataframe to an interactive table.\"\n",
              "              style=\"display:none;\">\n",
              "        \n",
              "  <svg xmlns=\"http://www.w3.org/2000/svg\" height=\"24px\"viewBox=\"0 0 24 24\"\n",
              "       width=\"24px\">\n",
              "    <path d=\"M0 0h24v24H0V0z\" fill=\"none\"/>\n",
              "    <path d=\"M18.56 5.44l.94 2.06.94-2.06 2.06-.94-2.06-.94-.94-2.06-.94 2.06-2.06.94zm-11 1L8.5 8.5l.94-2.06 2.06-.94-2.06-.94L8.5 2.5l-.94 2.06-2.06.94zm10 10l.94 2.06.94-2.06 2.06-.94-2.06-.94-.94-2.06-.94 2.06-2.06.94z\"/><path d=\"M17.41 7.96l-1.37-1.37c-.4-.4-.92-.59-1.43-.59-.52 0-1.04.2-1.43.59L10.3 9.45l-7.72 7.72c-.78.78-.78 2.05 0 2.83L4 21.41c.39.39.9.59 1.41.59.51 0 1.02-.2 1.41-.59l7.78-7.78 2.81-2.81c.8-.78.8-2.07 0-2.86zM5.41 20L4 18.59l7.72-7.72 1.47 1.35L5.41 20z\"/>\n",
              "  </svg>\n",
              "      </button>\n",
              "      \n",
              "  <style>\n",
              "    .colab-df-container {\n",
              "      display:flex;\n",
              "      flex-wrap:wrap;\n",
              "      gap: 12px;\n",
              "    }\n",
              "\n",
              "    .colab-df-convert {\n",
              "      background-color: #E8F0FE;\n",
              "      border: none;\n",
              "      border-radius: 50%;\n",
              "      cursor: pointer;\n",
              "      display: none;\n",
              "      fill: #1967D2;\n",
              "      height: 32px;\n",
              "      padding: 0 0 0 0;\n",
              "      width: 32px;\n",
              "    }\n",
              "\n",
              "    .colab-df-convert:hover {\n",
              "      background-color: #E2EBFA;\n",
              "      box-shadow: 0px 1px 2px rgba(60, 64, 67, 0.3), 0px 1px 3px 1px rgba(60, 64, 67, 0.15);\n",
              "      fill: #174EA6;\n",
              "    }\n",
              "\n",
              "    [theme=dark] .colab-df-convert {\n",
              "      background-color: #3B4455;\n",
              "      fill: #D2E3FC;\n",
              "    }\n",
              "\n",
              "    [theme=dark] .colab-df-convert:hover {\n",
              "      background-color: #434B5C;\n",
              "      box-shadow: 0px 1px 3px 1px rgba(0, 0, 0, 0.15);\n",
              "      filter: drop-shadow(0px 1px 2px rgba(0, 0, 0, 0.3));\n",
              "      fill: #FFFFFF;\n",
              "    }\n",
              "  </style>\n",
              "\n",
              "      <script>\n",
              "        const buttonEl =\n",
              "          document.querySelector('#df-2d7e6f82-010b-4b10-b887-df2773c04c68 button.colab-df-convert');\n",
              "        buttonEl.style.display =\n",
              "          google.colab.kernel.accessAllowed ? 'block' : 'none';\n",
              "\n",
              "        async function convertToInteractive(key) {\n",
              "          const element = document.querySelector('#df-2d7e6f82-010b-4b10-b887-df2773c04c68');\n",
              "          const dataTable =\n",
              "            await google.colab.kernel.invokeFunction('convertToInteractive',\n",
              "                                                     [key], {});\n",
              "          if (!dataTable) return;\n",
              "\n",
              "          const docLinkHtml = 'Like what you see? Visit the ' +\n",
              "            '<a target=\"_blank\" href=https://colab.research.google.com/notebooks/data_table.ipynb>data table notebook</a>'\n",
              "            + ' to learn more about interactive tables.';\n",
              "          element.innerHTML = '';\n",
              "          dataTable['output_type'] = 'display_data';\n",
              "          await google.colab.output.renderOutput(dataTable, element);\n",
              "          const docLink = document.createElement('div');\n",
              "          docLink.innerHTML = docLinkHtml;\n",
              "          element.appendChild(docLink);\n",
              "        }\n",
              "      </script>\n",
              "    </div>\n",
              "  </div>\n",
              "  "
            ]
          },
          "metadata": {},
          "execution_count": 41
        }
      ]
    },
    {
      "cell_type": "code",
      "source": [
        "final_df = df_min_max_scaled.copy()"
      ],
      "metadata": {
        "id": "s3kZW5g78BDW"
      },
      "execution_count": null,
      "outputs": []
    },
    {
      "cell_type": "code",
      "source": [
        "#randomly shuffling the dataset so that the model learns better\n",
        "final_df = final_df.sample(frac=1)\n",
        "final_df.head()"
      ],
      "metadata": {
        "colab": {
          "base_uri": "https://localhost:8080/",
          "height": 238
        },
        "id": "Z3YvOK6z8GX7",
        "outputId": "c2b9ccd1-ed4e-4031-fef1-3dce2501c299"
      },
      "execution_count": null,
      "outputs": [
        {
          "output_type": "execute_result",
          "data": {
            "text/plain": [
              "              prod  region_id    precip      temp      smos      ndvi\n",
              "start_date                                                           \n",
              "2019-02-01   24262         95  0.456032  0.517665  0.612498  0.654630\n",
              "2018-11-01   62102         97  0.146883  0.903364  0.406069  0.707877\n",
              "2018-04-01   42942        104  0.385913  0.797734  0.865419  0.462834\n",
              "2019-02-01   43806        104  0.455919  0.885202  0.828312  0.489314\n",
              "2017-02-01  155267         98  0.390787  0.355608  0.267691  0.608935"
            ],
            "text/html": [
              "\n",
              "  <div id=\"df-43941557-f813-4e5c-ae26-2f979c660b09\">\n",
              "    <div class=\"colab-df-container\">\n",
              "      <div>\n",
              "<style scoped>\n",
              "    .dataframe tbody tr th:only-of-type {\n",
              "        vertical-align: middle;\n",
              "    }\n",
              "\n",
              "    .dataframe tbody tr th {\n",
              "        vertical-align: top;\n",
              "    }\n",
              "\n",
              "    .dataframe thead th {\n",
              "        text-align: right;\n",
              "    }\n",
              "</style>\n",
              "<table border=\"1\" class=\"dataframe\">\n",
              "  <thead>\n",
              "    <tr style=\"text-align: right;\">\n",
              "      <th></th>\n",
              "      <th>prod</th>\n",
              "      <th>region_id</th>\n",
              "      <th>precip</th>\n",
              "      <th>temp</th>\n",
              "      <th>smos</th>\n",
              "      <th>ndvi</th>\n",
              "    </tr>\n",
              "    <tr>\n",
              "      <th>start_date</th>\n",
              "      <th></th>\n",
              "      <th></th>\n",
              "      <th></th>\n",
              "      <th></th>\n",
              "      <th></th>\n",
              "      <th></th>\n",
              "    </tr>\n",
              "  </thead>\n",
              "  <tbody>\n",
              "    <tr>\n",
              "      <th>2019-02-01</th>\n",
              "      <td>24262</td>\n",
              "      <td>95</td>\n",
              "      <td>0.456032</td>\n",
              "      <td>0.517665</td>\n",
              "      <td>0.612498</td>\n",
              "      <td>0.654630</td>\n",
              "    </tr>\n",
              "    <tr>\n",
              "      <th>2018-11-01</th>\n",
              "      <td>62102</td>\n",
              "      <td>97</td>\n",
              "      <td>0.146883</td>\n",
              "      <td>0.903364</td>\n",
              "      <td>0.406069</td>\n",
              "      <td>0.707877</td>\n",
              "    </tr>\n",
              "    <tr>\n",
              "      <th>2018-04-01</th>\n",
              "      <td>42942</td>\n",
              "      <td>104</td>\n",
              "      <td>0.385913</td>\n",
              "      <td>0.797734</td>\n",
              "      <td>0.865419</td>\n",
              "      <td>0.462834</td>\n",
              "    </tr>\n",
              "    <tr>\n",
              "      <th>2019-02-01</th>\n",
              "      <td>43806</td>\n",
              "      <td>104</td>\n",
              "      <td>0.455919</td>\n",
              "      <td>0.885202</td>\n",
              "      <td>0.828312</td>\n",
              "      <td>0.489314</td>\n",
              "    </tr>\n",
              "    <tr>\n",
              "      <th>2017-02-01</th>\n",
              "      <td>155267</td>\n",
              "      <td>98</td>\n",
              "      <td>0.390787</td>\n",
              "      <td>0.355608</td>\n",
              "      <td>0.267691</td>\n",
              "      <td>0.608935</td>\n",
              "    </tr>\n",
              "  </tbody>\n",
              "</table>\n",
              "</div>\n",
              "      <button class=\"colab-df-convert\" onclick=\"convertToInteractive('df-43941557-f813-4e5c-ae26-2f979c660b09')\"\n",
              "              title=\"Convert this dataframe to an interactive table.\"\n",
              "              style=\"display:none;\">\n",
              "        \n",
              "  <svg xmlns=\"http://www.w3.org/2000/svg\" height=\"24px\"viewBox=\"0 0 24 24\"\n",
              "       width=\"24px\">\n",
              "    <path d=\"M0 0h24v24H0V0z\" fill=\"none\"/>\n",
              "    <path d=\"M18.56 5.44l.94 2.06.94-2.06 2.06-.94-2.06-.94-.94-2.06-.94 2.06-2.06.94zm-11 1L8.5 8.5l.94-2.06 2.06-.94-2.06-.94L8.5 2.5l-.94 2.06-2.06.94zm10 10l.94 2.06.94-2.06 2.06-.94-2.06-.94-.94-2.06-.94 2.06-2.06.94z\"/><path d=\"M17.41 7.96l-1.37-1.37c-.4-.4-.92-.59-1.43-.59-.52 0-1.04.2-1.43.59L10.3 9.45l-7.72 7.72c-.78.78-.78 2.05 0 2.83L4 21.41c.39.39.9.59 1.41.59.51 0 1.02-.2 1.41-.59l7.78-7.78 2.81-2.81c.8-.78.8-2.07 0-2.86zM5.41 20L4 18.59l7.72-7.72 1.47 1.35L5.41 20z\"/>\n",
              "  </svg>\n",
              "      </button>\n",
              "      \n",
              "  <style>\n",
              "    .colab-df-container {\n",
              "      display:flex;\n",
              "      flex-wrap:wrap;\n",
              "      gap: 12px;\n",
              "    }\n",
              "\n",
              "    .colab-df-convert {\n",
              "      background-color: #E8F0FE;\n",
              "      border: none;\n",
              "      border-radius: 50%;\n",
              "      cursor: pointer;\n",
              "      display: none;\n",
              "      fill: #1967D2;\n",
              "      height: 32px;\n",
              "      padding: 0 0 0 0;\n",
              "      width: 32px;\n",
              "    }\n",
              "\n",
              "    .colab-df-convert:hover {\n",
              "      background-color: #E2EBFA;\n",
              "      box-shadow: 0px 1px 2px rgba(60, 64, 67, 0.3), 0px 1px 3px 1px rgba(60, 64, 67, 0.15);\n",
              "      fill: #174EA6;\n",
              "    }\n",
              "\n",
              "    [theme=dark] .colab-df-convert {\n",
              "      background-color: #3B4455;\n",
              "      fill: #D2E3FC;\n",
              "    }\n",
              "\n",
              "    [theme=dark] .colab-df-convert:hover {\n",
              "      background-color: #434B5C;\n",
              "      box-shadow: 0px 1px 3px 1px rgba(0, 0, 0, 0.15);\n",
              "      filter: drop-shadow(0px 1px 2px rgba(0, 0, 0, 0.3));\n",
              "      fill: #FFFFFF;\n",
              "    }\n",
              "  </style>\n",
              "\n",
              "      <script>\n",
              "        const buttonEl =\n",
              "          document.querySelector('#df-43941557-f813-4e5c-ae26-2f979c660b09 button.colab-df-convert');\n",
              "        buttonEl.style.display =\n",
              "          google.colab.kernel.accessAllowed ? 'block' : 'none';\n",
              "\n",
              "        async function convertToInteractive(key) {\n",
              "          const element = document.querySelector('#df-43941557-f813-4e5c-ae26-2f979c660b09');\n",
              "          const dataTable =\n",
              "            await google.colab.kernel.invokeFunction('convertToInteractive',\n",
              "                                                     [key], {});\n",
              "          if (!dataTable) return;\n",
              "\n",
              "          const docLinkHtml = 'Like what you see? Visit the ' +\n",
              "            '<a target=\"_blank\" href=https://colab.research.google.com/notebooks/data_table.ipynb>data table notebook</a>'\n",
              "            + ' to learn more about interactive tables.';\n",
              "          element.innerHTML = '';\n",
              "          dataTable['output_type'] = 'display_data';\n",
              "          await google.colab.output.renderOutput(dataTable, element);\n",
              "          const docLink = document.createElement('div');\n",
              "          docLink.innerHTML = docLinkHtml;\n",
              "          element.appendChild(docLink);\n",
              "        }\n",
              "      </script>\n",
              "    </div>\n",
              "  </div>\n",
              "  "
            ]
          },
          "metadata": {},
          "execution_count": 43
        }
      ]
    },
    {
      "cell_type": "code",
      "source": [
        "#The region ID is simply a category and is not to be treated as an integer variable affecting the production quantity\n",
        "final_df['region_id'] = final_df.region_id.astype('category')"
      ],
      "metadata": {
        "id": "wyMXzml2_g-d"
      },
      "execution_count": null,
      "outputs": []
    },
    {
      "cell_type": "code",
      "source": [
        "x = final_df.drop('prod',axis=1)\n",
        "y = final_df['prod']"
      ],
      "metadata": {
        "id": "oMitc1aM-VeJ"
      },
      "execution_count": null,
      "outputs": []
    },
    {
      "cell_type": "code",
      "source": [
        "regions = pd.get_dummies(x,drop_first=True)\n",
        "x = x.drop('region_id',axis=1)\n",
        "x = pd.concat([x,regions],axis=1)\n",
        "x"
      ],
      "metadata": {
        "colab": {
          "base_uri": "https://localhost:8080/",
          "height": 519
        },
        "id": "Zl0Vv7FTANe5",
        "outputId": "55f4001e-3a8f-4af8-edfd-083a4f659fb6"
      },
      "execution_count": null,
      "outputs": [
        {
          "output_type": "execute_result",
          "data": {
            "text/plain": [
              "              precip      temp      smos      ndvi    precip      temp  \\\n",
              "start_date                                                               \n",
              "2019-02-01  0.456032  0.517665  0.612498  0.654630  0.456032  0.517665   \n",
              "2018-11-01  0.146883  0.903364  0.406069  0.707877  0.146883  0.903364   \n",
              "2018-04-01  0.385913  0.797734  0.865419  0.462834  0.385913  0.797734   \n",
              "2019-02-01  0.455919  0.885202  0.828312  0.489314  0.455919  0.885202   \n",
              "2017-02-01  0.390787  0.355608  0.267691  0.608935  0.390787  0.355608   \n",
              "...              ...       ...       ...       ...       ...       ...   \n",
              "2019-10-01  0.214316  0.441705  0.482121  0.891926  0.214316  0.441705   \n",
              "2019-06-01  0.590728  0.332691  0.693032  0.830087  0.590728  0.332691   \n",
              "2019-10-01  0.249139  0.616653  0.504692  0.586022  0.249139  0.616653   \n",
              "2015-02-01  0.572268  0.123387  0.656552  0.544184  0.572268  0.123387   \n",
              "2017-10-01  0.452386  0.713398  0.850045  0.752350  0.452386  0.713398   \n",
              "\n",
              "                smos      ndvi  region_id_94  region_id_95  region_id_97  \\\n",
              "start_date                                                                 \n",
              "2019-02-01  0.612498  0.654630             0             1             0   \n",
              "2018-11-01  0.406069  0.707877             0             0             1   \n",
              "2018-04-01  0.865419  0.462834             0             0             0   \n",
              "2019-02-01  0.828312  0.489314             0             0             0   \n",
              "2017-02-01  0.267691  0.608935             0             0             0   \n",
              "...              ...       ...           ...           ...           ...   \n",
              "2019-10-01  0.482121  0.891926             0             0             0   \n",
              "2019-06-01  0.693032  0.830087             0             0             0   \n",
              "2019-10-01  0.504692  0.586022             0             1             0   \n",
              "2015-02-01  0.656552  0.544184             0             0             0   \n",
              "2017-10-01  0.850045  0.752350             0             0             0   \n",
              "\n",
              "            region_id_98  region_id_99  region_id_102  region_id_103  \\\n",
              "start_date                                                             \n",
              "2019-02-01             0             0              0              0   \n",
              "2018-11-01             0             0              0              0   \n",
              "2018-04-01             0             0              0              0   \n",
              "2019-02-01             0             0              0              0   \n",
              "2017-02-01             1             0              0              0   \n",
              "...                  ...           ...            ...            ...   \n",
              "2019-10-01             0             0              1              0   \n",
              "2019-06-01             0             0              0              1   \n",
              "2019-10-01             0             0              0              0   \n",
              "2015-02-01             0             1              0              0   \n",
              "2017-10-01             0             0              0              0   \n",
              "\n",
              "            region_id_104  region_id_105  \n",
              "start_date                                \n",
              "2019-02-01              0              0  \n",
              "2018-11-01              0              0  \n",
              "2018-04-01              1              0  \n",
              "2019-02-01              1              0  \n",
              "2017-02-01              0              0  \n",
              "...                   ...            ...  \n",
              "2019-10-01              0              0  \n",
              "2019-06-01              0              0  \n",
              "2019-10-01              0              0  \n",
              "2015-02-01              0              0  \n",
              "2017-10-01              0              0  \n",
              "\n",
              "[720 rows x 17 columns]"
            ],
            "text/html": [
              "\n",
              "  <div id=\"df-9b2809ce-c279-452a-8e7e-28b8da292a3c\">\n",
              "    <div class=\"colab-df-container\">\n",
              "      <div>\n",
              "<style scoped>\n",
              "    .dataframe tbody tr th:only-of-type {\n",
              "        vertical-align: middle;\n",
              "    }\n",
              "\n",
              "    .dataframe tbody tr th {\n",
              "        vertical-align: top;\n",
              "    }\n",
              "\n",
              "    .dataframe thead th {\n",
              "        text-align: right;\n",
              "    }\n",
              "</style>\n",
              "<table border=\"1\" class=\"dataframe\">\n",
              "  <thead>\n",
              "    <tr style=\"text-align: right;\">\n",
              "      <th></th>\n",
              "      <th>precip</th>\n",
              "      <th>temp</th>\n",
              "      <th>smos</th>\n",
              "      <th>ndvi</th>\n",
              "      <th>precip</th>\n",
              "      <th>temp</th>\n",
              "      <th>smos</th>\n",
              "      <th>ndvi</th>\n",
              "      <th>region_id_94</th>\n",
              "      <th>region_id_95</th>\n",
              "      <th>region_id_97</th>\n",
              "      <th>region_id_98</th>\n",
              "      <th>region_id_99</th>\n",
              "      <th>region_id_102</th>\n",
              "      <th>region_id_103</th>\n",
              "      <th>region_id_104</th>\n",
              "      <th>region_id_105</th>\n",
              "    </tr>\n",
              "    <tr>\n",
              "      <th>start_date</th>\n",
              "      <th></th>\n",
              "      <th></th>\n",
              "      <th></th>\n",
              "      <th></th>\n",
              "      <th></th>\n",
              "      <th></th>\n",
              "      <th></th>\n",
              "      <th></th>\n",
              "      <th></th>\n",
              "      <th></th>\n",
              "      <th></th>\n",
              "      <th></th>\n",
              "      <th></th>\n",
              "      <th></th>\n",
              "      <th></th>\n",
              "      <th></th>\n",
              "      <th></th>\n",
              "    </tr>\n",
              "  </thead>\n",
              "  <tbody>\n",
              "    <tr>\n",
              "      <th>2019-02-01</th>\n",
              "      <td>0.456032</td>\n",
              "      <td>0.517665</td>\n",
              "      <td>0.612498</td>\n",
              "      <td>0.654630</td>\n",
              "      <td>0.456032</td>\n",
              "      <td>0.517665</td>\n",
              "      <td>0.612498</td>\n",
              "      <td>0.654630</td>\n",
              "      <td>0</td>\n",
              "      <td>1</td>\n",
              "      <td>0</td>\n",
              "      <td>0</td>\n",
              "      <td>0</td>\n",
              "      <td>0</td>\n",
              "      <td>0</td>\n",
              "      <td>0</td>\n",
              "      <td>0</td>\n",
              "    </tr>\n",
              "    <tr>\n",
              "      <th>2018-11-01</th>\n",
              "      <td>0.146883</td>\n",
              "      <td>0.903364</td>\n",
              "      <td>0.406069</td>\n",
              "      <td>0.707877</td>\n",
              "      <td>0.146883</td>\n",
              "      <td>0.903364</td>\n",
              "      <td>0.406069</td>\n",
              "      <td>0.707877</td>\n",
              "      <td>0</td>\n",
              "      <td>0</td>\n",
              "      <td>1</td>\n",
              "      <td>0</td>\n",
              "      <td>0</td>\n",
              "      <td>0</td>\n",
              "      <td>0</td>\n",
              "      <td>0</td>\n",
              "      <td>0</td>\n",
              "    </tr>\n",
              "    <tr>\n",
              "      <th>2018-04-01</th>\n",
              "      <td>0.385913</td>\n",
              "      <td>0.797734</td>\n",
              "      <td>0.865419</td>\n",
              "      <td>0.462834</td>\n",
              "      <td>0.385913</td>\n",
              "      <td>0.797734</td>\n",
              "      <td>0.865419</td>\n",
              "      <td>0.462834</td>\n",
              "      <td>0</td>\n",
              "      <td>0</td>\n",
              "      <td>0</td>\n",
              "      <td>0</td>\n",
              "      <td>0</td>\n",
              "      <td>0</td>\n",
              "      <td>0</td>\n",
              "      <td>1</td>\n",
              "      <td>0</td>\n",
              "    </tr>\n",
              "    <tr>\n",
              "      <th>2019-02-01</th>\n",
              "      <td>0.455919</td>\n",
              "      <td>0.885202</td>\n",
              "      <td>0.828312</td>\n",
              "      <td>0.489314</td>\n",
              "      <td>0.455919</td>\n",
              "      <td>0.885202</td>\n",
              "      <td>0.828312</td>\n",
              "      <td>0.489314</td>\n",
              "      <td>0</td>\n",
              "      <td>0</td>\n",
              "      <td>0</td>\n",
              "      <td>0</td>\n",
              "      <td>0</td>\n",
              "      <td>0</td>\n",
              "      <td>0</td>\n",
              "      <td>1</td>\n",
              "      <td>0</td>\n",
              "    </tr>\n",
              "    <tr>\n",
              "      <th>2017-02-01</th>\n",
              "      <td>0.390787</td>\n",
              "      <td>0.355608</td>\n",
              "      <td>0.267691</td>\n",
              "      <td>0.608935</td>\n",
              "      <td>0.390787</td>\n",
              "      <td>0.355608</td>\n",
              "      <td>0.267691</td>\n",
              "      <td>0.608935</td>\n",
              "      <td>0</td>\n",
              "      <td>0</td>\n",
              "      <td>0</td>\n",
              "      <td>1</td>\n",
              "      <td>0</td>\n",
              "      <td>0</td>\n",
              "      <td>0</td>\n",
              "      <td>0</td>\n",
              "      <td>0</td>\n",
              "    </tr>\n",
              "    <tr>\n",
              "      <th>...</th>\n",
              "      <td>...</td>\n",
              "      <td>...</td>\n",
              "      <td>...</td>\n",
              "      <td>...</td>\n",
              "      <td>...</td>\n",
              "      <td>...</td>\n",
              "      <td>...</td>\n",
              "      <td>...</td>\n",
              "      <td>...</td>\n",
              "      <td>...</td>\n",
              "      <td>...</td>\n",
              "      <td>...</td>\n",
              "      <td>...</td>\n",
              "      <td>...</td>\n",
              "      <td>...</td>\n",
              "      <td>...</td>\n",
              "      <td>...</td>\n",
              "    </tr>\n",
              "    <tr>\n",
              "      <th>2019-10-01</th>\n",
              "      <td>0.214316</td>\n",
              "      <td>0.441705</td>\n",
              "      <td>0.482121</td>\n",
              "      <td>0.891926</td>\n",
              "      <td>0.214316</td>\n",
              "      <td>0.441705</td>\n",
              "      <td>0.482121</td>\n",
              "      <td>0.891926</td>\n",
              "      <td>0</td>\n",
              "      <td>0</td>\n",
              "      <td>0</td>\n",
              "      <td>0</td>\n",
              "      <td>0</td>\n",
              "      <td>1</td>\n",
              "      <td>0</td>\n",
              "      <td>0</td>\n",
              "      <td>0</td>\n",
              "    </tr>\n",
              "    <tr>\n",
              "      <th>2019-06-01</th>\n",
              "      <td>0.590728</td>\n",
              "      <td>0.332691</td>\n",
              "      <td>0.693032</td>\n",
              "      <td>0.830087</td>\n",
              "      <td>0.590728</td>\n",
              "      <td>0.332691</td>\n",
              "      <td>0.693032</td>\n",
              "      <td>0.830087</td>\n",
              "      <td>0</td>\n",
              "      <td>0</td>\n",
              "      <td>0</td>\n",
              "      <td>0</td>\n",
              "      <td>0</td>\n",
              "      <td>0</td>\n",
              "      <td>1</td>\n",
              "      <td>0</td>\n",
              "      <td>0</td>\n",
              "    </tr>\n",
              "    <tr>\n",
              "      <th>2019-10-01</th>\n",
              "      <td>0.249139</td>\n",
              "      <td>0.616653</td>\n",
              "      <td>0.504692</td>\n",
              "      <td>0.586022</td>\n",
              "      <td>0.249139</td>\n",
              "      <td>0.616653</td>\n",
              "      <td>0.504692</td>\n",
              "      <td>0.586022</td>\n",
              "      <td>0</td>\n",
              "      <td>1</td>\n",
              "      <td>0</td>\n",
              "      <td>0</td>\n",
              "      <td>0</td>\n",
              "      <td>0</td>\n",
              "      <td>0</td>\n",
              "      <td>0</td>\n",
              "      <td>0</td>\n",
              "    </tr>\n",
              "    <tr>\n",
              "      <th>2015-02-01</th>\n",
              "      <td>0.572268</td>\n",
              "      <td>0.123387</td>\n",
              "      <td>0.656552</td>\n",
              "      <td>0.544184</td>\n",
              "      <td>0.572268</td>\n",
              "      <td>0.123387</td>\n",
              "      <td>0.656552</td>\n",
              "      <td>0.544184</td>\n",
              "      <td>0</td>\n",
              "      <td>0</td>\n",
              "      <td>0</td>\n",
              "      <td>0</td>\n",
              "      <td>1</td>\n",
              "      <td>0</td>\n",
              "      <td>0</td>\n",
              "      <td>0</td>\n",
              "      <td>0</td>\n",
              "    </tr>\n",
              "    <tr>\n",
              "      <th>2017-10-01</th>\n",
              "      <td>0.452386</td>\n",
              "      <td>0.713398</td>\n",
              "      <td>0.850045</td>\n",
              "      <td>0.752350</td>\n",
              "      <td>0.452386</td>\n",
              "      <td>0.713398</td>\n",
              "      <td>0.850045</td>\n",
              "      <td>0.752350</td>\n",
              "      <td>0</td>\n",
              "      <td>0</td>\n",
              "      <td>0</td>\n",
              "      <td>0</td>\n",
              "      <td>0</td>\n",
              "      <td>0</td>\n",
              "      <td>0</td>\n",
              "      <td>0</td>\n",
              "      <td>0</td>\n",
              "    </tr>\n",
              "  </tbody>\n",
              "</table>\n",
              "<p>720 rows × 17 columns</p>\n",
              "</div>\n",
              "      <button class=\"colab-df-convert\" onclick=\"convertToInteractive('df-9b2809ce-c279-452a-8e7e-28b8da292a3c')\"\n",
              "              title=\"Convert this dataframe to an interactive table.\"\n",
              "              style=\"display:none;\">\n",
              "        \n",
              "  <svg xmlns=\"http://www.w3.org/2000/svg\" height=\"24px\"viewBox=\"0 0 24 24\"\n",
              "       width=\"24px\">\n",
              "    <path d=\"M0 0h24v24H0V0z\" fill=\"none\"/>\n",
              "    <path d=\"M18.56 5.44l.94 2.06.94-2.06 2.06-.94-2.06-.94-.94-2.06-.94 2.06-2.06.94zm-11 1L8.5 8.5l.94-2.06 2.06-.94-2.06-.94L8.5 2.5l-.94 2.06-2.06.94zm10 10l.94 2.06.94-2.06 2.06-.94-2.06-.94-.94-2.06-.94 2.06-2.06.94z\"/><path d=\"M17.41 7.96l-1.37-1.37c-.4-.4-.92-.59-1.43-.59-.52 0-1.04.2-1.43.59L10.3 9.45l-7.72 7.72c-.78.78-.78 2.05 0 2.83L4 21.41c.39.39.9.59 1.41.59.51 0 1.02-.2 1.41-.59l7.78-7.78 2.81-2.81c.8-.78.8-2.07 0-2.86zM5.41 20L4 18.59l7.72-7.72 1.47 1.35L5.41 20z\"/>\n",
              "  </svg>\n",
              "      </button>\n",
              "      \n",
              "  <style>\n",
              "    .colab-df-container {\n",
              "      display:flex;\n",
              "      flex-wrap:wrap;\n",
              "      gap: 12px;\n",
              "    }\n",
              "\n",
              "    .colab-df-convert {\n",
              "      background-color: #E8F0FE;\n",
              "      border: none;\n",
              "      border-radius: 50%;\n",
              "      cursor: pointer;\n",
              "      display: none;\n",
              "      fill: #1967D2;\n",
              "      height: 32px;\n",
              "      padding: 0 0 0 0;\n",
              "      width: 32px;\n",
              "    }\n",
              "\n",
              "    .colab-df-convert:hover {\n",
              "      background-color: #E2EBFA;\n",
              "      box-shadow: 0px 1px 2px rgba(60, 64, 67, 0.3), 0px 1px 3px 1px rgba(60, 64, 67, 0.15);\n",
              "      fill: #174EA6;\n",
              "    }\n",
              "\n",
              "    [theme=dark] .colab-df-convert {\n",
              "      background-color: #3B4455;\n",
              "      fill: #D2E3FC;\n",
              "    }\n",
              "\n",
              "    [theme=dark] .colab-df-convert:hover {\n",
              "      background-color: #434B5C;\n",
              "      box-shadow: 0px 1px 3px 1px rgba(0, 0, 0, 0.15);\n",
              "      filter: drop-shadow(0px 1px 2px rgba(0, 0, 0, 0.3));\n",
              "      fill: #FFFFFF;\n",
              "    }\n",
              "  </style>\n",
              "\n",
              "      <script>\n",
              "        const buttonEl =\n",
              "          document.querySelector('#df-9b2809ce-c279-452a-8e7e-28b8da292a3c button.colab-df-convert');\n",
              "        buttonEl.style.display =\n",
              "          google.colab.kernel.accessAllowed ? 'block' : 'none';\n",
              "\n",
              "        async function convertToInteractive(key) {\n",
              "          const element = document.querySelector('#df-9b2809ce-c279-452a-8e7e-28b8da292a3c');\n",
              "          const dataTable =\n",
              "            await google.colab.kernel.invokeFunction('convertToInteractive',\n",
              "                                                     [key], {});\n",
              "          if (!dataTable) return;\n",
              "\n",
              "          const docLinkHtml = 'Like what you see? Visit the ' +\n",
              "            '<a target=\"_blank\" href=https://colab.research.google.com/notebooks/data_table.ipynb>data table notebook</a>'\n",
              "            + ' to learn more about interactive tables.';\n",
              "          element.innerHTML = '';\n",
              "          dataTable['output_type'] = 'display_data';\n",
              "          await google.colab.output.renderOutput(dataTable, element);\n",
              "          const docLink = document.createElement('div');\n",
              "          docLink.innerHTML = docLinkHtml;\n",
              "          element.appendChild(docLink);\n",
              "        }\n",
              "      </script>\n",
              "    </div>\n",
              "  </div>\n",
              "  "
            ]
          },
          "metadata": {},
          "execution_count": 49
        }
      ]
    },
    {
      "cell_type": "markdown",
      "source": [
        "## Splitting and shuffling the dataset"
      ],
      "metadata": {
        "id": "1Q1990N2BTsp"
      }
    },
    {
      "cell_type": "code",
      "source": [
        "from sklearn.model_selection import train_test_split\n",
        "x_train, x_test, y_train, y_test = train_test_split(x, y, test_size = 0.2, random_state = 42)"
      ],
      "metadata": {
        "id": "9t1lIARlBGMe"
      },
      "execution_count": null,
      "outputs": []
    },
    {
      "cell_type": "code",
      "source": [
        "from sklearn.linear_model import LinearRegression\n",
        "LR = LinearRegression()\n",
        "LR.fit(x_train,y_train)\n",
        "y_prediction =  LR.predict(x_test)"
      ],
      "metadata": {
        "id": "Ye7kFxwxBg_u"
      },
      "execution_count": null,
      "outputs": []
    },
    {
      "cell_type": "code",
      "source": [
        "from sklearn.metrics import r2_score\n",
        "from sklearn.metrics import mean_squared_error\n",
        "score=r2_score(y_test,y_prediction)\n",
        "print('The R2 score is ',score)"
      ],
      "metadata": {
        "colab": {
          "base_uri": "https://localhost:8080/"
        },
        "id": "h_WjkkGZByKz",
        "outputId": "5ef9a0a6-8d9c-463f-9fe7-f0131d71bdc4"
      },
      "execution_count": null,
      "outputs": [
        {
          "output_type": "stream",
          "name": "stdout",
          "text": [
            "The R2 score is  0.9368438140563538\n"
          ]
        }
      ]
    },
    {
      "cell_type": "markdown",
      "source": [
        "### The best possible value for the R2 score is 1.0 . My model has achieved 0.93 . With the previous iteration, I had achieved 0.94 . I chalked that down to the shuffling randomness."
      ],
      "metadata": {
        "id": "vH67wsR6DUqs"
      }
    },
    {
      "cell_type": "markdown",
      "source": [
        "### To predict the production quantities from January 2021 to December 2021, we will need data from July 2020 until November 2021, as per my assumption made at the beginning of this notebook"
      ],
      "metadata": {
        "id": "gOHXrtVHDhMU"
      }
    },
    {
      "cell_type": "code",
      "source": [
        "def preprocess_test(file): #similar to the original preprocess function but this time getting values from July 2020 until November 2021\n",
        "  df = pd.read_csv(file, parse_dates=['start_date', 'end_date'])\n",
        "  df = df.drop(['end_date'], axis = 1)\n",
        "  df = df[~(df['start_date'] < '2020-06-01')]\n",
        "  df = df[~(df['start_date'] > '2021-11-30')]\n",
        "  df['start_date'] = pd.to_datetime(df['start_date'].dt.date)\n",
        "  regions = df.region_id.unique()\n",
        "  dfdict = {elem : pd.DataFrame for elem in regions}\n",
        "  for key in dfdict.keys():\n",
        "    dfdict[key] = df[:][df.region_id == key]\n",
        "  for key in dfdict.keys():\n",
        "    dframe = dfdict[key]\n",
        "    dframe = dframe.groupby(pd.Grouper(key = 'start_date',freq = 'M')).mean()\n",
        "    dfdict[key] = dframe\n",
        "  df = pd.DataFrame()\n",
        "  for key in dfdict.keys():\n",
        "    df = df.append(dfdict[key])\n",
        "  return df"
      ],
      "metadata": {
        "id": "LB-r4FY8EXyY"
      },
      "execution_count": null,
      "outputs": []
    },
    {
      "cell_type": "code",
      "source": [
        "df_precip = preprocess_test('Daily Precipitation.csv')\n",
        "df_soil = preprocess_test('Daily Soil Mositure.csv')\n",
        "df_temp = preprocess_test('Daily Temperature.csv')\n",
        "df_ndvi = preprocess_test('Eight Day NDVI.csv')"
      ],
      "metadata": {
        "id": "BMtIFr-rEhgV"
      },
      "execution_count": null,
      "outputs": []
    },
    {
      "cell_type": "code",
      "source": [
        "#No null values are present and equal number of values are present across all dataframes"
      ],
      "metadata": {
        "id": "opic4JTsEx1x"
      },
      "execution_count": null,
      "outputs": []
    },
    {
      "cell_type": "code",
      "source": [
        "df_prediction = pd.read_csv('predicted_production_qty.csv', parse_dates = ['start_date','end_date'])\n",
        "df_prediction = df_prediction.set_index(pd.to_datetime(df_prediction['start_date'].dt.date))\n",
        "df_prediction = df_prediction.drop(['start_date','end_date'], axis = 1)\n",
        "df_prediction.info()"
      ],
      "metadata": {
        "colab": {
          "base_uri": "https://localhost:8080/"
        },
        "id": "LrfAJ2l5FKTZ",
        "outputId": "30ee74f7-3068-4878-a9c0-8a5b6f23567f"
      },
      "execution_count": null,
      "outputs": [
        {
          "output_type": "stream",
          "name": "stdout",
          "text": [
            "<class 'pandas.core.frame.DataFrame'>\n",
            "DatetimeIndex: 120 entries, 2021-01-01 to 2021-12-01\n",
            "Data columns (total 2 columns):\n",
            " #   Column     Non-Null Count  Dtype  \n",
            "---  ------     --------------  -----  \n",
            " 0   prod       0 non-null      float64\n",
            " 1   region_id  120 non-null    int64  \n",
            "dtypes: float64(1), int64(1)\n",
            "memory usage: 2.8 KB\n"
          ]
        }
      ]
    },
    {
      "cell_type": "code",
      "source": [
        "df_prediction = df_prediction.drop(columns=['prod'],axis=1)"
      ],
      "metadata": {
        "id": "xOn7NI77Fsxp"
      },
      "execution_count": null,
      "outputs": []
    },
    {
      "cell_type": "code",
      "source": [
        "#Calculating average values over 6 months similar to the training phase\n",
        "precip = []\n",
        "for val in df_precip.region_id.unique():\n",
        "  arr = []\n",
        "  df = df_precip.loc[df_precip['region_id'] == val]\n",
        "  for i in range(df.shape[0]-6):\n",
        "    arr.append(df.iloc[i:i+6]['precip'].mean())\n",
        "  precip+=arr\n",
        "\n",
        "temperature = []\n",
        "for val in df_temp.region_id.unique():\n",
        "  arr = []\n",
        "  df = df_temp.loc[df_temp['region_id'] == val]\n",
        "  for i in range(df.shape[0]-6):\n",
        "    arr.append(df.iloc[i:i+6]['temp'].mean())\n",
        "  temperature+=arr\n",
        "\n",
        "smos = []\n",
        "for val in df_soil.region_id.unique():\n",
        "  arr = []\n",
        "  df = df_soil.loc[df_soil['region_id'] == val]\n",
        "  for i in range(df.shape[0]-6):\n",
        "    arr.append(df.iloc[i:i+6]['smos'].mean())\n",
        "  smos+=arr\n",
        "\n",
        "ndvi = []\n",
        "for val in df_ndvi.region_id.unique():\n",
        "  arr = []\n",
        "  df = df_ndvi.loc[df_ndvi['region_id'] == val]\n",
        "  for i in range(df.shape[0]-6):\n",
        "    arr.append(df.iloc[i:i+6]['ndvi'].mean())\n",
        "  ndvi+=arr"
      ],
      "metadata": {
        "id": "OaqIZ4SLF3Gt"
      },
      "execution_count": null,
      "outputs": []
    },
    {
      "cell_type": "code",
      "source": [
        "df_prediction['precip'] = precip\n",
        "df_prediction['temp'] = temperature\n",
        "df_prediction['smos'] = smos\n",
        "df_prediction['ndvi'] = ndvi"
      ],
      "metadata": {
        "id": "R3sJQNTfGnEA"
      },
      "execution_count": null,
      "outputs": []
    },
    {
      "cell_type": "code",
      "source": [
        "df_min_max_scaled = df_prediction.copy()\n",
        "for column in ['precip','temp','smos','ndvi']:\n",
        "  df_min_max_scaled[column] = (df_min_max_scaled[column] - df_min_max_scaled[column].min()) / (df_min_max_scaled[column].max() - df_min_max_scaled[column].min())"
      ],
      "metadata": {
        "id": "fOWJlL7bG91r"
      },
      "execution_count": null,
      "outputs": []
    },
    {
      "cell_type": "code",
      "source": [
        "df_min_max_scaled.head()"
      ],
      "metadata": {
        "colab": {
          "base_uri": "https://localhost:8080/",
          "height": 238
        },
        "id": "9bVYctEKHRDy",
        "outputId": "1e0d50cd-2324-4cdc-db86-f71635871deb"
      },
      "execution_count": null,
      "outputs": [
        {
          "output_type": "execute_result",
          "data": {
            "text/plain": [
              "            region_id    precip      temp      smos      ndvi\n",
              "start_date                                                   \n",
              "2021-01-01         93  0.246991  0.840790  0.934698  0.668766\n",
              "2021-02-01         93  0.198411  0.679072  0.957111  0.628453\n",
              "2021-03-01         93  0.415509  0.591427  1.000000  0.558868\n",
              "2021-04-01         93  0.321233  0.560153  0.996150  0.460129\n",
              "2021-05-01         93  0.314734  0.587303  0.966738  0.394831"
            ],
            "text/html": [
              "\n",
              "  <div id=\"df-30572e49-a3da-4085-a6e5-2e43fc1763ed\">\n",
              "    <div class=\"colab-df-container\">\n",
              "      <div>\n",
              "<style scoped>\n",
              "    .dataframe tbody tr th:only-of-type {\n",
              "        vertical-align: middle;\n",
              "    }\n",
              "\n",
              "    .dataframe tbody tr th {\n",
              "        vertical-align: top;\n",
              "    }\n",
              "\n",
              "    .dataframe thead th {\n",
              "        text-align: right;\n",
              "    }\n",
              "</style>\n",
              "<table border=\"1\" class=\"dataframe\">\n",
              "  <thead>\n",
              "    <tr style=\"text-align: right;\">\n",
              "      <th></th>\n",
              "      <th>region_id</th>\n",
              "      <th>precip</th>\n",
              "      <th>temp</th>\n",
              "      <th>smos</th>\n",
              "      <th>ndvi</th>\n",
              "    </tr>\n",
              "    <tr>\n",
              "      <th>start_date</th>\n",
              "      <th></th>\n",
              "      <th></th>\n",
              "      <th></th>\n",
              "      <th></th>\n",
              "      <th></th>\n",
              "    </tr>\n",
              "  </thead>\n",
              "  <tbody>\n",
              "    <tr>\n",
              "      <th>2021-01-01</th>\n",
              "      <td>93</td>\n",
              "      <td>0.246991</td>\n",
              "      <td>0.840790</td>\n",
              "      <td>0.934698</td>\n",
              "      <td>0.668766</td>\n",
              "    </tr>\n",
              "    <tr>\n",
              "      <th>2021-02-01</th>\n",
              "      <td>93</td>\n",
              "      <td>0.198411</td>\n",
              "      <td>0.679072</td>\n",
              "      <td>0.957111</td>\n",
              "      <td>0.628453</td>\n",
              "    </tr>\n",
              "    <tr>\n",
              "      <th>2021-03-01</th>\n",
              "      <td>93</td>\n",
              "      <td>0.415509</td>\n",
              "      <td>0.591427</td>\n",
              "      <td>1.000000</td>\n",
              "      <td>0.558868</td>\n",
              "    </tr>\n",
              "    <tr>\n",
              "      <th>2021-04-01</th>\n",
              "      <td>93</td>\n",
              "      <td>0.321233</td>\n",
              "      <td>0.560153</td>\n",
              "      <td>0.996150</td>\n",
              "      <td>0.460129</td>\n",
              "    </tr>\n",
              "    <tr>\n",
              "      <th>2021-05-01</th>\n",
              "      <td>93</td>\n",
              "      <td>0.314734</td>\n",
              "      <td>0.587303</td>\n",
              "      <td>0.966738</td>\n",
              "      <td>0.394831</td>\n",
              "    </tr>\n",
              "  </tbody>\n",
              "</table>\n",
              "</div>\n",
              "      <button class=\"colab-df-convert\" onclick=\"convertToInteractive('df-30572e49-a3da-4085-a6e5-2e43fc1763ed')\"\n",
              "              title=\"Convert this dataframe to an interactive table.\"\n",
              "              style=\"display:none;\">\n",
              "        \n",
              "  <svg xmlns=\"http://www.w3.org/2000/svg\" height=\"24px\"viewBox=\"0 0 24 24\"\n",
              "       width=\"24px\">\n",
              "    <path d=\"M0 0h24v24H0V0z\" fill=\"none\"/>\n",
              "    <path d=\"M18.56 5.44l.94 2.06.94-2.06 2.06-.94-2.06-.94-.94-2.06-.94 2.06-2.06.94zm-11 1L8.5 8.5l.94-2.06 2.06-.94-2.06-.94L8.5 2.5l-.94 2.06-2.06.94zm10 10l.94 2.06.94-2.06 2.06-.94-2.06-.94-.94-2.06-.94 2.06-2.06.94z\"/><path d=\"M17.41 7.96l-1.37-1.37c-.4-.4-.92-.59-1.43-.59-.52 0-1.04.2-1.43.59L10.3 9.45l-7.72 7.72c-.78.78-.78 2.05 0 2.83L4 21.41c.39.39.9.59 1.41.59.51 0 1.02-.2 1.41-.59l7.78-7.78 2.81-2.81c.8-.78.8-2.07 0-2.86zM5.41 20L4 18.59l7.72-7.72 1.47 1.35L5.41 20z\"/>\n",
              "  </svg>\n",
              "      </button>\n",
              "      \n",
              "  <style>\n",
              "    .colab-df-container {\n",
              "      display:flex;\n",
              "      flex-wrap:wrap;\n",
              "      gap: 12px;\n",
              "    }\n",
              "\n",
              "    .colab-df-convert {\n",
              "      background-color: #E8F0FE;\n",
              "      border: none;\n",
              "      border-radius: 50%;\n",
              "      cursor: pointer;\n",
              "      display: none;\n",
              "      fill: #1967D2;\n",
              "      height: 32px;\n",
              "      padding: 0 0 0 0;\n",
              "      width: 32px;\n",
              "    }\n",
              "\n",
              "    .colab-df-convert:hover {\n",
              "      background-color: #E2EBFA;\n",
              "      box-shadow: 0px 1px 2px rgba(60, 64, 67, 0.3), 0px 1px 3px 1px rgba(60, 64, 67, 0.15);\n",
              "      fill: #174EA6;\n",
              "    }\n",
              "\n",
              "    [theme=dark] .colab-df-convert {\n",
              "      background-color: #3B4455;\n",
              "      fill: #D2E3FC;\n",
              "    }\n",
              "\n",
              "    [theme=dark] .colab-df-convert:hover {\n",
              "      background-color: #434B5C;\n",
              "      box-shadow: 0px 1px 3px 1px rgba(0, 0, 0, 0.15);\n",
              "      filter: drop-shadow(0px 1px 2px rgba(0, 0, 0, 0.3));\n",
              "      fill: #FFFFFF;\n",
              "    }\n",
              "  </style>\n",
              "\n",
              "      <script>\n",
              "        const buttonEl =\n",
              "          document.querySelector('#df-30572e49-a3da-4085-a6e5-2e43fc1763ed button.colab-df-convert');\n",
              "        buttonEl.style.display =\n",
              "          google.colab.kernel.accessAllowed ? 'block' : 'none';\n",
              "\n",
              "        async function convertToInteractive(key) {\n",
              "          const element = document.querySelector('#df-30572e49-a3da-4085-a6e5-2e43fc1763ed');\n",
              "          const dataTable =\n",
              "            await google.colab.kernel.invokeFunction('convertToInteractive',\n",
              "                                                     [key], {});\n",
              "          if (!dataTable) return;\n",
              "\n",
              "          const docLinkHtml = 'Like what you see? Visit the ' +\n",
              "            '<a target=\"_blank\" href=https://colab.research.google.com/notebooks/data_table.ipynb>data table notebook</a>'\n",
              "            + ' to learn more about interactive tables.';\n",
              "          element.innerHTML = '';\n",
              "          dataTable['output_type'] = 'display_data';\n",
              "          await google.colab.output.renderOutput(dataTable, element);\n",
              "          const docLink = document.createElement('div');\n",
              "          docLink.innerHTML = docLinkHtml;\n",
              "          element.appendChild(docLink);\n",
              "        }\n",
              "      </script>\n",
              "    </div>\n",
              "  </div>\n",
              "  "
            ]
          },
          "metadata": {},
          "execution_count": 62
        }
      ]
    },
    {
      "cell_type": "code",
      "source": [
        "pred_df = df_min_max_scaled.copy()"
      ],
      "metadata": {
        "id": "vvh479PlHWbm"
      },
      "execution_count": null,
      "outputs": []
    },
    {
      "cell_type": "code",
      "source": [
        "pred_df = pred_df.sample(frac=1)\n",
        "pred_df.head()"
      ],
      "metadata": {
        "colab": {
          "base_uri": "https://localhost:8080/",
          "height": 238
        },
        "id": "h0PLZ5cnHhbo",
        "outputId": "637c0021-57e9-4aff-f778-a5c49fd15578"
      },
      "execution_count": null,
      "outputs": [
        {
          "output_type": "execute_result",
          "data": {
            "text/plain": [
              "            region_id    precip      temp      smos      ndvi\n",
              "start_date                                                   \n",
              "2021-03-01         98  0.470483  0.334428  0.288393  0.722693\n",
              "2021-01-01        103  0.891464  0.244905  0.222984  0.904067\n",
              "2021-01-01         98  0.279613  0.538138  0.129708  0.801969\n",
              "2021-09-01         97  0.038377  0.735170  0.603589  0.615615\n",
              "2021-06-01         93  0.422158  0.561400  0.997427  0.406201"
            ],
            "text/html": [
              "\n",
              "  <div id=\"df-4724ae27-4668-4901-9652-8adb9a0722f1\">\n",
              "    <div class=\"colab-df-container\">\n",
              "      <div>\n",
              "<style scoped>\n",
              "    .dataframe tbody tr th:only-of-type {\n",
              "        vertical-align: middle;\n",
              "    }\n",
              "\n",
              "    .dataframe tbody tr th {\n",
              "        vertical-align: top;\n",
              "    }\n",
              "\n",
              "    .dataframe thead th {\n",
              "        text-align: right;\n",
              "    }\n",
              "</style>\n",
              "<table border=\"1\" class=\"dataframe\">\n",
              "  <thead>\n",
              "    <tr style=\"text-align: right;\">\n",
              "      <th></th>\n",
              "      <th>region_id</th>\n",
              "      <th>precip</th>\n",
              "      <th>temp</th>\n",
              "      <th>smos</th>\n",
              "      <th>ndvi</th>\n",
              "    </tr>\n",
              "    <tr>\n",
              "      <th>start_date</th>\n",
              "      <th></th>\n",
              "      <th></th>\n",
              "      <th></th>\n",
              "      <th></th>\n",
              "      <th></th>\n",
              "    </tr>\n",
              "  </thead>\n",
              "  <tbody>\n",
              "    <tr>\n",
              "      <th>2021-03-01</th>\n",
              "      <td>98</td>\n",
              "      <td>0.470483</td>\n",
              "      <td>0.334428</td>\n",
              "      <td>0.288393</td>\n",
              "      <td>0.722693</td>\n",
              "    </tr>\n",
              "    <tr>\n",
              "      <th>2021-01-01</th>\n",
              "      <td>103</td>\n",
              "      <td>0.891464</td>\n",
              "      <td>0.244905</td>\n",
              "      <td>0.222984</td>\n",
              "      <td>0.904067</td>\n",
              "    </tr>\n",
              "    <tr>\n",
              "      <th>2021-01-01</th>\n",
              "      <td>98</td>\n",
              "      <td>0.279613</td>\n",
              "      <td>0.538138</td>\n",
              "      <td>0.129708</td>\n",
              "      <td>0.801969</td>\n",
              "    </tr>\n",
              "    <tr>\n",
              "      <th>2021-09-01</th>\n",
              "      <td>97</td>\n",
              "      <td>0.038377</td>\n",
              "      <td>0.735170</td>\n",
              "      <td>0.603589</td>\n",
              "      <td>0.615615</td>\n",
              "    </tr>\n",
              "    <tr>\n",
              "      <th>2021-06-01</th>\n",
              "      <td>93</td>\n",
              "      <td>0.422158</td>\n",
              "      <td>0.561400</td>\n",
              "      <td>0.997427</td>\n",
              "      <td>0.406201</td>\n",
              "    </tr>\n",
              "  </tbody>\n",
              "</table>\n",
              "</div>\n",
              "      <button class=\"colab-df-convert\" onclick=\"convertToInteractive('df-4724ae27-4668-4901-9652-8adb9a0722f1')\"\n",
              "              title=\"Convert this dataframe to an interactive table.\"\n",
              "              style=\"display:none;\">\n",
              "        \n",
              "  <svg xmlns=\"http://www.w3.org/2000/svg\" height=\"24px\"viewBox=\"0 0 24 24\"\n",
              "       width=\"24px\">\n",
              "    <path d=\"M0 0h24v24H0V0z\" fill=\"none\"/>\n",
              "    <path d=\"M18.56 5.44l.94 2.06.94-2.06 2.06-.94-2.06-.94-.94-2.06-.94 2.06-2.06.94zm-11 1L8.5 8.5l.94-2.06 2.06-.94-2.06-.94L8.5 2.5l-.94 2.06-2.06.94zm10 10l.94 2.06.94-2.06 2.06-.94-2.06-.94-.94-2.06-.94 2.06-2.06.94z\"/><path d=\"M17.41 7.96l-1.37-1.37c-.4-.4-.92-.59-1.43-.59-.52 0-1.04.2-1.43.59L10.3 9.45l-7.72 7.72c-.78.78-.78 2.05 0 2.83L4 21.41c.39.39.9.59 1.41.59.51 0 1.02-.2 1.41-.59l7.78-7.78 2.81-2.81c.8-.78.8-2.07 0-2.86zM5.41 20L4 18.59l7.72-7.72 1.47 1.35L5.41 20z\"/>\n",
              "  </svg>\n",
              "      </button>\n",
              "      \n",
              "  <style>\n",
              "    .colab-df-container {\n",
              "      display:flex;\n",
              "      flex-wrap:wrap;\n",
              "      gap: 12px;\n",
              "    }\n",
              "\n",
              "    .colab-df-convert {\n",
              "      background-color: #E8F0FE;\n",
              "      border: none;\n",
              "      border-radius: 50%;\n",
              "      cursor: pointer;\n",
              "      display: none;\n",
              "      fill: #1967D2;\n",
              "      height: 32px;\n",
              "      padding: 0 0 0 0;\n",
              "      width: 32px;\n",
              "    }\n",
              "\n",
              "    .colab-df-convert:hover {\n",
              "      background-color: #E2EBFA;\n",
              "      box-shadow: 0px 1px 2px rgba(60, 64, 67, 0.3), 0px 1px 3px 1px rgba(60, 64, 67, 0.15);\n",
              "      fill: #174EA6;\n",
              "    }\n",
              "\n",
              "    [theme=dark] .colab-df-convert {\n",
              "      background-color: #3B4455;\n",
              "      fill: #D2E3FC;\n",
              "    }\n",
              "\n",
              "    [theme=dark] .colab-df-convert:hover {\n",
              "      background-color: #434B5C;\n",
              "      box-shadow: 0px 1px 3px 1px rgba(0, 0, 0, 0.15);\n",
              "      filter: drop-shadow(0px 1px 2px rgba(0, 0, 0, 0.3));\n",
              "      fill: #FFFFFF;\n",
              "    }\n",
              "  </style>\n",
              "\n",
              "      <script>\n",
              "        const buttonEl =\n",
              "          document.querySelector('#df-4724ae27-4668-4901-9652-8adb9a0722f1 button.colab-df-convert');\n",
              "        buttonEl.style.display =\n",
              "          google.colab.kernel.accessAllowed ? 'block' : 'none';\n",
              "\n",
              "        async function convertToInteractive(key) {\n",
              "          const element = document.querySelector('#df-4724ae27-4668-4901-9652-8adb9a0722f1');\n",
              "          const dataTable =\n",
              "            await google.colab.kernel.invokeFunction('convertToInteractive',\n",
              "                                                     [key], {});\n",
              "          if (!dataTable) return;\n",
              "\n",
              "          const docLinkHtml = 'Like what you see? Visit the ' +\n",
              "            '<a target=\"_blank\" href=https://colab.research.google.com/notebooks/data_table.ipynb>data table notebook</a>'\n",
              "            + ' to learn more about interactive tables.';\n",
              "          element.innerHTML = '';\n",
              "          dataTable['output_type'] = 'display_data';\n",
              "          await google.colab.output.renderOutput(dataTable, element);\n",
              "          const docLink = document.createElement('div');\n",
              "          docLink.innerHTML = docLinkHtml;\n",
              "          element.appendChild(docLink);\n",
              "        }\n",
              "      </script>\n",
              "    </div>\n",
              "  </div>\n",
              "  "
            ]
          },
          "metadata": {},
          "execution_count": 64
        }
      ]
    },
    {
      "cell_type": "code",
      "source": [
        "pred_df['region_id'] = pred_df.region_id.astype('category')"
      ],
      "metadata": {
        "id": "nhbKj__NHn-W"
      },
      "execution_count": null,
      "outputs": []
    },
    {
      "cell_type": "code",
      "source": [
        "pred_df.head()"
      ],
      "metadata": {
        "colab": {
          "base_uri": "https://localhost:8080/",
          "height": 238
        },
        "id": "2e2v-1F-H1vI",
        "outputId": "6ec1990d-c30e-40a9-cdc3-742297b4053d"
      },
      "execution_count": null,
      "outputs": [
        {
          "output_type": "execute_result",
          "data": {
            "text/plain": [
              "           region_id    precip      temp      smos      ndvi\n",
              "start_date                                                  \n",
              "2021-03-01        98  0.470483  0.334428  0.288393  0.722693\n",
              "2021-01-01       103  0.891464  0.244905  0.222984  0.904067\n",
              "2021-01-01        98  0.279613  0.538138  0.129708  0.801969\n",
              "2021-09-01        97  0.038377  0.735170  0.603589  0.615615\n",
              "2021-06-01        93  0.422158  0.561400  0.997427  0.406201"
            ],
            "text/html": [
              "\n",
              "  <div id=\"df-b6aed95d-b83e-4f1f-bf1d-d574dc3c9394\">\n",
              "    <div class=\"colab-df-container\">\n",
              "      <div>\n",
              "<style scoped>\n",
              "    .dataframe tbody tr th:only-of-type {\n",
              "        vertical-align: middle;\n",
              "    }\n",
              "\n",
              "    .dataframe tbody tr th {\n",
              "        vertical-align: top;\n",
              "    }\n",
              "\n",
              "    .dataframe thead th {\n",
              "        text-align: right;\n",
              "    }\n",
              "</style>\n",
              "<table border=\"1\" class=\"dataframe\">\n",
              "  <thead>\n",
              "    <tr style=\"text-align: right;\">\n",
              "      <th></th>\n",
              "      <th>region_id</th>\n",
              "      <th>precip</th>\n",
              "      <th>temp</th>\n",
              "      <th>smos</th>\n",
              "      <th>ndvi</th>\n",
              "    </tr>\n",
              "    <tr>\n",
              "      <th>start_date</th>\n",
              "      <th></th>\n",
              "      <th></th>\n",
              "      <th></th>\n",
              "      <th></th>\n",
              "      <th></th>\n",
              "    </tr>\n",
              "  </thead>\n",
              "  <tbody>\n",
              "    <tr>\n",
              "      <th>2021-03-01</th>\n",
              "      <td>98</td>\n",
              "      <td>0.470483</td>\n",
              "      <td>0.334428</td>\n",
              "      <td>0.288393</td>\n",
              "      <td>0.722693</td>\n",
              "    </tr>\n",
              "    <tr>\n",
              "      <th>2021-01-01</th>\n",
              "      <td>103</td>\n",
              "      <td>0.891464</td>\n",
              "      <td>0.244905</td>\n",
              "      <td>0.222984</td>\n",
              "      <td>0.904067</td>\n",
              "    </tr>\n",
              "    <tr>\n",
              "      <th>2021-01-01</th>\n",
              "      <td>98</td>\n",
              "      <td>0.279613</td>\n",
              "      <td>0.538138</td>\n",
              "      <td>0.129708</td>\n",
              "      <td>0.801969</td>\n",
              "    </tr>\n",
              "    <tr>\n",
              "      <th>2021-09-01</th>\n",
              "      <td>97</td>\n",
              "      <td>0.038377</td>\n",
              "      <td>0.735170</td>\n",
              "      <td>0.603589</td>\n",
              "      <td>0.615615</td>\n",
              "    </tr>\n",
              "    <tr>\n",
              "      <th>2021-06-01</th>\n",
              "      <td>93</td>\n",
              "      <td>0.422158</td>\n",
              "      <td>0.561400</td>\n",
              "      <td>0.997427</td>\n",
              "      <td>0.406201</td>\n",
              "    </tr>\n",
              "  </tbody>\n",
              "</table>\n",
              "</div>\n",
              "      <button class=\"colab-df-convert\" onclick=\"convertToInteractive('df-b6aed95d-b83e-4f1f-bf1d-d574dc3c9394')\"\n",
              "              title=\"Convert this dataframe to an interactive table.\"\n",
              "              style=\"display:none;\">\n",
              "        \n",
              "  <svg xmlns=\"http://www.w3.org/2000/svg\" height=\"24px\"viewBox=\"0 0 24 24\"\n",
              "       width=\"24px\">\n",
              "    <path d=\"M0 0h24v24H0V0z\" fill=\"none\"/>\n",
              "    <path d=\"M18.56 5.44l.94 2.06.94-2.06 2.06-.94-2.06-.94-.94-2.06-.94 2.06-2.06.94zm-11 1L8.5 8.5l.94-2.06 2.06-.94-2.06-.94L8.5 2.5l-.94 2.06-2.06.94zm10 10l.94 2.06.94-2.06 2.06-.94-2.06-.94-.94-2.06-.94 2.06-2.06.94z\"/><path d=\"M17.41 7.96l-1.37-1.37c-.4-.4-.92-.59-1.43-.59-.52 0-1.04.2-1.43.59L10.3 9.45l-7.72 7.72c-.78.78-.78 2.05 0 2.83L4 21.41c.39.39.9.59 1.41.59.51 0 1.02-.2 1.41-.59l7.78-7.78 2.81-2.81c.8-.78.8-2.07 0-2.86zM5.41 20L4 18.59l7.72-7.72 1.47 1.35L5.41 20z\"/>\n",
              "  </svg>\n",
              "      </button>\n",
              "      \n",
              "  <style>\n",
              "    .colab-df-container {\n",
              "      display:flex;\n",
              "      flex-wrap:wrap;\n",
              "      gap: 12px;\n",
              "    }\n",
              "\n",
              "    .colab-df-convert {\n",
              "      background-color: #E8F0FE;\n",
              "      border: none;\n",
              "      border-radius: 50%;\n",
              "      cursor: pointer;\n",
              "      display: none;\n",
              "      fill: #1967D2;\n",
              "      height: 32px;\n",
              "      padding: 0 0 0 0;\n",
              "      width: 32px;\n",
              "    }\n",
              "\n",
              "    .colab-df-convert:hover {\n",
              "      background-color: #E2EBFA;\n",
              "      box-shadow: 0px 1px 2px rgba(60, 64, 67, 0.3), 0px 1px 3px 1px rgba(60, 64, 67, 0.15);\n",
              "      fill: #174EA6;\n",
              "    }\n",
              "\n",
              "    [theme=dark] .colab-df-convert {\n",
              "      background-color: #3B4455;\n",
              "      fill: #D2E3FC;\n",
              "    }\n",
              "\n",
              "    [theme=dark] .colab-df-convert:hover {\n",
              "      background-color: #434B5C;\n",
              "      box-shadow: 0px 1px 3px 1px rgba(0, 0, 0, 0.15);\n",
              "      filter: drop-shadow(0px 1px 2px rgba(0, 0, 0, 0.3));\n",
              "      fill: #FFFFFF;\n",
              "    }\n",
              "  </style>\n",
              "\n",
              "      <script>\n",
              "        const buttonEl =\n",
              "          document.querySelector('#df-b6aed95d-b83e-4f1f-bf1d-d574dc3c9394 button.colab-df-convert');\n",
              "        buttonEl.style.display =\n",
              "          google.colab.kernel.accessAllowed ? 'block' : 'none';\n",
              "\n",
              "        async function convertToInteractive(key) {\n",
              "          const element = document.querySelector('#df-b6aed95d-b83e-4f1f-bf1d-d574dc3c9394');\n",
              "          const dataTable =\n",
              "            await google.colab.kernel.invokeFunction('convertToInteractive',\n",
              "                                                     [key], {});\n",
              "          if (!dataTable) return;\n",
              "\n",
              "          const docLinkHtml = 'Like what you see? Visit the ' +\n",
              "            '<a target=\"_blank\" href=https://colab.research.google.com/notebooks/data_table.ipynb>data table notebook</a>'\n",
              "            + ' to learn more about interactive tables.';\n",
              "          element.innerHTML = '';\n",
              "          dataTable['output_type'] = 'display_data';\n",
              "          await google.colab.output.renderOutput(dataTable, element);\n",
              "          const docLink = document.createElement('div');\n",
              "          docLink.innerHTML = docLinkHtml;\n",
              "          element.appendChild(docLink);\n",
              "        }\n",
              "      </script>\n",
              "    </div>\n",
              "  </div>\n",
              "  "
            ]
          },
          "metadata": {},
          "execution_count": 66
        }
      ]
    },
    {
      "cell_type": "code",
      "source": [
        "regions = pd.get_dummies(pred_df,drop_first=True)\n",
        "pred_df = pred_df.drop('region_id',axis=1)\n",
        "pred_df = pd.concat([pred_df,regions],axis=1)\n",
        "pred_df"
      ],
      "metadata": {
        "colab": {
          "base_uri": "https://localhost:8080/",
          "height": 519
        },
        "id": "YhvQftaFH55Z",
        "outputId": "d646afdb-745d-449c-ce21-e58db72a5ff2"
      },
      "execution_count": null,
      "outputs": [
        {
          "output_type": "execute_result",
          "data": {
            "text/plain": [
              "              precip      temp      smos      ndvi    precip      temp  \\\n",
              "start_date                                                               \n",
              "2021-03-01  0.470483  0.334428  0.288393  0.722693  0.470483  0.334428   \n",
              "2021-01-01  0.891464  0.244905  0.222984  0.904067  0.891464  0.244905   \n",
              "2021-01-01  0.279613  0.538138  0.129708  0.801969  0.279613  0.538138   \n",
              "2021-09-01  0.038377  0.735170  0.603589  0.615615  0.038377  0.735170   \n",
              "2021-06-01  0.422158  0.561400  0.997427  0.406201  0.422158  0.561400   \n",
              "...              ...       ...       ...       ...       ...       ...   \n",
              "2021-11-01  0.341216  0.751485  0.714316  0.197838  0.341216  0.751485   \n",
              "2021-11-01  0.295806  0.410385  0.066713  0.811947  0.295806  0.410385   \n",
              "2021-04-01  0.754515  0.098061  0.450320  0.809709  0.754515  0.098061   \n",
              "2021-06-01  0.344461  0.260795  0.586853  0.254555  0.344461  0.260795   \n",
              "2021-02-01  0.198411  0.679072  0.957111  0.628453  0.198411  0.679072   \n",
              "\n",
              "                smos      ndvi  region_id_94  region_id_95  region_id_97  \\\n",
              "start_date                                                                 \n",
              "2021-03-01  0.288393  0.722693             0             0             0   \n",
              "2021-01-01  0.222984  0.904067             0             0             0   \n",
              "2021-01-01  0.129708  0.801969             0             0             0   \n",
              "2021-09-01  0.603589  0.615615             0             0             1   \n",
              "2021-06-01  0.997427  0.406201             0             0             0   \n",
              "...              ...       ...           ...           ...           ...   \n",
              "2021-11-01  0.714316  0.197838             0             0             0   \n",
              "2021-11-01  0.066713  0.811947             0             0             0   \n",
              "2021-04-01  0.450320  0.809709             0             0             0   \n",
              "2021-06-01  0.586853  0.254555             0             1             0   \n",
              "2021-02-01  0.957111  0.628453             0             0             0   \n",
              "\n",
              "            region_id_98  region_id_99  region_id_102  region_id_103  \\\n",
              "start_date                                                             \n",
              "2021-03-01             1             0              0              0   \n",
              "2021-01-01             0             0              0              1   \n",
              "2021-01-01             1             0              0              0   \n",
              "2021-09-01             0             0              0              0   \n",
              "2021-06-01             0             0              0              0   \n",
              "...                  ...           ...            ...            ...   \n",
              "2021-11-01             0             0              0              0   \n",
              "2021-11-01             1             0              0              0   \n",
              "2021-04-01             0             0              0              1   \n",
              "2021-06-01             0             0              0              0   \n",
              "2021-02-01             0             0              0              0   \n",
              "\n",
              "            region_id_104  region_id_105  \n",
              "start_date                                \n",
              "2021-03-01              0              0  \n",
              "2021-01-01              0              0  \n",
              "2021-01-01              0              0  \n",
              "2021-09-01              0              0  \n",
              "2021-06-01              0              0  \n",
              "...                   ...            ...  \n",
              "2021-11-01              1              0  \n",
              "2021-11-01              0              0  \n",
              "2021-04-01              0              0  \n",
              "2021-06-01              0              0  \n",
              "2021-02-01              0              0  \n",
              "\n",
              "[120 rows x 17 columns]"
            ],
            "text/html": [
              "\n",
              "  <div id=\"df-28f06ca9-58ce-4544-978c-be6c9372f202\">\n",
              "    <div class=\"colab-df-container\">\n",
              "      <div>\n",
              "<style scoped>\n",
              "    .dataframe tbody tr th:only-of-type {\n",
              "        vertical-align: middle;\n",
              "    }\n",
              "\n",
              "    .dataframe tbody tr th {\n",
              "        vertical-align: top;\n",
              "    }\n",
              "\n",
              "    .dataframe thead th {\n",
              "        text-align: right;\n",
              "    }\n",
              "</style>\n",
              "<table border=\"1\" class=\"dataframe\">\n",
              "  <thead>\n",
              "    <tr style=\"text-align: right;\">\n",
              "      <th></th>\n",
              "      <th>precip</th>\n",
              "      <th>temp</th>\n",
              "      <th>smos</th>\n",
              "      <th>ndvi</th>\n",
              "      <th>precip</th>\n",
              "      <th>temp</th>\n",
              "      <th>smos</th>\n",
              "      <th>ndvi</th>\n",
              "      <th>region_id_94</th>\n",
              "      <th>region_id_95</th>\n",
              "      <th>region_id_97</th>\n",
              "      <th>region_id_98</th>\n",
              "      <th>region_id_99</th>\n",
              "      <th>region_id_102</th>\n",
              "      <th>region_id_103</th>\n",
              "      <th>region_id_104</th>\n",
              "      <th>region_id_105</th>\n",
              "    </tr>\n",
              "    <tr>\n",
              "      <th>start_date</th>\n",
              "      <th></th>\n",
              "      <th></th>\n",
              "      <th></th>\n",
              "      <th></th>\n",
              "      <th></th>\n",
              "      <th></th>\n",
              "      <th></th>\n",
              "      <th></th>\n",
              "      <th></th>\n",
              "      <th></th>\n",
              "      <th></th>\n",
              "      <th></th>\n",
              "      <th></th>\n",
              "      <th></th>\n",
              "      <th></th>\n",
              "      <th></th>\n",
              "      <th></th>\n",
              "    </tr>\n",
              "  </thead>\n",
              "  <tbody>\n",
              "    <tr>\n",
              "      <th>2021-03-01</th>\n",
              "      <td>0.470483</td>\n",
              "      <td>0.334428</td>\n",
              "      <td>0.288393</td>\n",
              "      <td>0.722693</td>\n",
              "      <td>0.470483</td>\n",
              "      <td>0.334428</td>\n",
              "      <td>0.288393</td>\n",
              "      <td>0.722693</td>\n",
              "      <td>0</td>\n",
              "      <td>0</td>\n",
              "      <td>0</td>\n",
              "      <td>1</td>\n",
              "      <td>0</td>\n",
              "      <td>0</td>\n",
              "      <td>0</td>\n",
              "      <td>0</td>\n",
              "      <td>0</td>\n",
              "    </tr>\n",
              "    <tr>\n",
              "      <th>2021-01-01</th>\n",
              "      <td>0.891464</td>\n",
              "      <td>0.244905</td>\n",
              "      <td>0.222984</td>\n",
              "      <td>0.904067</td>\n",
              "      <td>0.891464</td>\n",
              "      <td>0.244905</td>\n",
              "      <td>0.222984</td>\n",
              "      <td>0.904067</td>\n",
              "      <td>0</td>\n",
              "      <td>0</td>\n",
              "      <td>0</td>\n",
              "      <td>0</td>\n",
              "      <td>0</td>\n",
              "      <td>0</td>\n",
              "      <td>1</td>\n",
              "      <td>0</td>\n",
              "      <td>0</td>\n",
              "    </tr>\n",
              "    <tr>\n",
              "      <th>2021-01-01</th>\n",
              "      <td>0.279613</td>\n",
              "      <td>0.538138</td>\n",
              "      <td>0.129708</td>\n",
              "      <td>0.801969</td>\n",
              "      <td>0.279613</td>\n",
              "      <td>0.538138</td>\n",
              "      <td>0.129708</td>\n",
              "      <td>0.801969</td>\n",
              "      <td>0</td>\n",
              "      <td>0</td>\n",
              "      <td>0</td>\n",
              "      <td>1</td>\n",
              "      <td>0</td>\n",
              "      <td>0</td>\n",
              "      <td>0</td>\n",
              "      <td>0</td>\n",
              "      <td>0</td>\n",
              "    </tr>\n",
              "    <tr>\n",
              "      <th>2021-09-01</th>\n",
              "      <td>0.038377</td>\n",
              "      <td>0.735170</td>\n",
              "      <td>0.603589</td>\n",
              "      <td>0.615615</td>\n",
              "      <td>0.038377</td>\n",
              "      <td>0.735170</td>\n",
              "      <td>0.603589</td>\n",
              "      <td>0.615615</td>\n",
              "      <td>0</td>\n",
              "      <td>0</td>\n",
              "      <td>1</td>\n",
              "      <td>0</td>\n",
              "      <td>0</td>\n",
              "      <td>0</td>\n",
              "      <td>0</td>\n",
              "      <td>0</td>\n",
              "      <td>0</td>\n",
              "    </tr>\n",
              "    <tr>\n",
              "      <th>2021-06-01</th>\n",
              "      <td>0.422158</td>\n",
              "      <td>0.561400</td>\n",
              "      <td>0.997427</td>\n",
              "      <td>0.406201</td>\n",
              "      <td>0.422158</td>\n",
              "      <td>0.561400</td>\n",
              "      <td>0.997427</td>\n",
              "      <td>0.406201</td>\n",
              "      <td>0</td>\n",
              "      <td>0</td>\n",
              "      <td>0</td>\n",
              "      <td>0</td>\n",
              "      <td>0</td>\n",
              "      <td>0</td>\n",
              "      <td>0</td>\n",
              "      <td>0</td>\n",
              "      <td>0</td>\n",
              "    </tr>\n",
              "    <tr>\n",
              "      <th>...</th>\n",
              "      <td>...</td>\n",
              "      <td>...</td>\n",
              "      <td>...</td>\n",
              "      <td>...</td>\n",
              "      <td>...</td>\n",
              "      <td>...</td>\n",
              "      <td>...</td>\n",
              "      <td>...</td>\n",
              "      <td>...</td>\n",
              "      <td>...</td>\n",
              "      <td>...</td>\n",
              "      <td>...</td>\n",
              "      <td>...</td>\n",
              "      <td>...</td>\n",
              "      <td>...</td>\n",
              "      <td>...</td>\n",
              "      <td>...</td>\n",
              "    </tr>\n",
              "    <tr>\n",
              "      <th>2021-11-01</th>\n",
              "      <td>0.341216</td>\n",
              "      <td>0.751485</td>\n",
              "      <td>0.714316</td>\n",
              "      <td>0.197838</td>\n",
              "      <td>0.341216</td>\n",
              "      <td>0.751485</td>\n",
              "      <td>0.714316</td>\n",
              "      <td>0.197838</td>\n",
              "      <td>0</td>\n",
              "      <td>0</td>\n",
              "      <td>0</td>\n",
              "      <td>0</td>\n",
              "      <td>0</td>\n",
              "      <td>0</td>\n",
              "      <td>0</td>\n",
              "      <td>1</td>\n",
              "      <td>0</td>\n",
              "    </tr>\n",
              "    <tr>\n",
              "      <th>2021-11-01</th>\n",
              "      <td>0.295806</td>\n",
              "      <td>0.410385</td>\n",
              "      <td>0.066713</td>\n",
              "      <td>0.811947</td>\n",
              "      <td>0.295806</td>\n",
              "      <td>0.410385</td>\n",
              "      <td>0.066713</td>\n",
              "      <td>0.811947</td>\n",
              "      <td>0</td>\n",
              "      <td>0</td>\n",
              "      <td>0</td>\n",
              "      <td>1</td>\n",
              "      <td>0</td>\n",
              "      <td>0</td>\n",
              "      <td>0</td>\n",
              "      <td>0</td>\n",
              "      <td>0</td>\n",
              "    </tr>\n",
              "    <tr>\n",
              "      <th>2021-04-01</th>\n",
              "      <td>0.754515</td>\n",
              "      <td>0.098061</td>\n",
              "      <td>0.450320</td>\n",
              "      <td>0.809709</td>\n",
              "      <td>0.754515</td>\n",
              "      <td>0.098061</td>\n",
              "      <td>0.450320</td>\n",
              "      <td>0.809709</td>\n",
              "      <td>0</td>\n",
              "      <td>0</td>\n",
              "      <td>0</td>\n",
              "      <td>0</td>\n",
              "      <td>0</td>\n",
              "      <td>0</td>\n",
              "      <td>1</td>\n",
              "      <td>0</td>\n",
              "      <td>0</td>\n",
              "    </tr>\n",
              "    <tr>\n",
              "      <th>2021-06-01</th>\n",
              "      <td>0.344461</td>\n",
              "      <td>0.260795</td>\n",
              "      <td>0.586853</td>\n",
              "      <td>0.254555</td>\n",
              "      <td>0.344461</td>\n",
              "      <td>0.260795</td>\n",
              "      <td>0.586853</td>\n",
              "      <td>0.254555</td>\n",
              "      <td>0</td>\n",
              "      <td>1</td>\n",
              "      <td>0</td>\n",
              "      <td>0</td>\n",
              "      <td>0</td>\n",
              "      <td>0</td>\n",
              "      <td>0</td>\n",
              "      <td>0</td>\n",
              "      <td>0</td>\n",
              "    </tr>\n",
              "    <tr>\n",
              "      <th>2021-02-01</th>\n",
              "      <td>0.198411</td>\n",
              "      <td>0.679072</td>\n",
              "      <td>0.957111</td>\n",
              "      <td>0.628453</td>\n",
              "      <td>0.198411</td>\n",
              "      <td>0.679072</td>\n",
              "      <td>0.957111</td>\n",
              "      <td>0.628453</td>\n",
              "      <td>0</td>\n",
              "      <td>0</td>\n",
              "      <td>0</td>\n",
              "      <td>0</td>\n",
              "      <td>0</td>\n",
              "      <td>0</td>\n",
              "      <td>0</td>\n",
              "      <td>0</td>\n",
              "      <td>0</td>\n",
              "    </tr>\n",
              "  </tbody>\n",
              "</table>\n",
              "<p>120 rows × 17 columns</p>\n",
              "</div>\n",
              "      <button class=\"colab-df-convert\" onclick=\"convertToInteractive('df-28f06ca9-58ce-4544-978c-be6c9372f202')\"\n",
              "              title=\"Convert this dataframe to an interactive table.\"\n",
              "              style=\"display:none;\">\n",
              "        \n",
              "  <svg xmlns=\"http://www.w3.org/2000/svg\" height=\"24px\"viewBox=\"0 0 24 24\"\n",
              "       width=\"24px\">\n",
              "    <path d=\"M0 0h24v24H0V0z\" fill=\"none\"/>\n",
              "    <path d=\"M18.56 5.44l.94 2.06.94-2.06 2.06-.94-2.06-.94-.94-2.06-.94 2.06-2.06.94zm-11 1L8.5 8.5l.94-2.06 2.06-.94-2.06-.94L8.5 2.5l-.94 2.06-2.06.94zm10 10l.94 2.06.94-2.06 2.06-.94-2.06-.94-.94-2.06-.94 2.06-2.06.94z\"/><path d=\"M17.41 7.96l-1.37-1.37c-.4-.4-.92-.59-1.43-.59-.52 0-1.04.2-1.43.59L10.3 9.45l-7.72 7.72c-.78.78-.78 2.05 0 2.83L4 21.41c.39.39.9.59 1.41.59.51 0 1.02-.2 1.41-.59l7.78-7.78 2.81-2.81c.8-.78.8-2.07 0-2.86zM5.41 20L4 18.59l7.72-7.72 1.47 1.35L5.41 20z\"/>\n",
              "  </svg>\n",
              "      </button>\n",
              "      \n",
              "  <style>\n",
              "    .colab-df-container {\n",
              "      display:flex;\n",
              "      flex-wrap:wrap;\n",
              "      gap: 12px;\n",
              "    }\n",
              "\n",
              "    .colab-df-convert {\n",
              "      background-color: #E8F0FE;\n",
              "      border: none;\n",
              "      border-radius: 50%;\n",
              "      cursor: pointer;\n",
              "      display: none;\n",
              "      fill: #1967D2;\n",
              "      height: 32px;\n",
              "      padding: 0 0 0 0;\n",
              "      width: 32px;\n",
              "    }\n",
              "\n",
              "    .colab-df-convert:hover {\n",
              "      background-color: #E2EBFA;\n",
              "      box-shadow: 0px 1px 2px rgba(60, 64, 67, 0.3), 0px 1px 3px 1px rgba(60, 64, 67, 0.15);\n",
              "      fill: #174EA6;\n",
              "    }\n",
              "\n",
              "    [theme=dark] .colab-df-convert {\n",
              "      background-color: #3B4455;\n",
              "      fill: #D2E3FC;\n",
              "    }\n",
              "\n",
              "    [theme=dark] .colab-df-convert:hover {\n",
              "      background-color: #434B5C;\n",
              "      box-shadow: 0px 1px 3px 1px rgba(0, 0, 0, 0.15);\n",
              "      filter: drop-shadow(0px 1px 2px rgba(0, 0, 0, 0.3));\n",
              "      fill: #FFFFFF;\n",
              "    }\n",
              "  </style>\n",
              "\n",
              "      <script>\n",
              "        const buttonEl =\n",
              "          document.querySelector('#df-28f06ca9-58ce-4544-978c-be6c9372f202 button.colab-df-convert');\n",
              "        buttonEl.style.display =\n",
              "          google.colab.kernel.accessAllowed ? 'block' : 'none';\n",
              "\n",
              "        async function convertToInteractive(key) {\n",
              "          const element = document.querySelector('#df-28f06ca9-58ce-4544-978c-be6c9372f202');\n",
              "          const dataTable =\n",
              "            await google.colab.kernel.invokeFunction('convertToInteractive',\n",
              "                                                     [key], {});\n",
              "          if (!dataTable) return;\n",
              "\n",
              "          const docLinkHtml = 'Like what you see? Visit the ' +\n",
              "            '<a target=\"_blank\" href=https://colab.research.google.com/notebooks/data_table.ipynb>data table notebook</a>'\n",
              "            + ' to learn more about interactive tables.';\n",
              "          element.innerHTML = '';\n",
              "          dataTable['output_type'] = 'display_data';\n",
              "          await google.colab.output.renderOutput(dataTable, element);\n",
              "          const docLink = document.createElement('div');\n",
              "          docLink.innerHTML = docLinkHtml;\n",
              "          element.appendChild(docLink);\n",
              "        }\n",
              "      </script>\n",
              "    </div>\n",
              "  </div>\n",
              "  "
            ]
          },
          "metadata": {},
          "execution_count": 67
        }
      ]
    },
    {
      "cell_type": "code",
      "source": [
        "final_answers = LR.predict(pred_df)"
      ],
      "metadata": {
        "id": "irAkdPIGIJcx"
      },
      "execution_count": null,
      "outputs": []
    },
    {
      "cell_type": "code",
      "source": [
        "final_df = pd.read_csv('predicted_production_qty.csv')\n",
        "final_df['prod'] = final_answers"
      ],
      "metadata": {
        "id": "cU-YkzeeI6dP"
      },
      "execution_count": null,
      "outputs": []
    },
    {
      "cell_type": "code",
      "source": [
        "final_df.info()"
      ],
      "metadata": {
        "colab": {
          "base_uri": "https://localhost:8080/"
        },
        "id": "8yPWPoKRJBbM",
        "outputId": "2e8f90d8-2db0-4e92-9e14-d2a6bb65f19f"
      },
      "execution_count": null,
      "outputs": [
        {
          "output_type": "stream",
          "name": "stdout",
          "text": [
            "<class 'pandas.core.frame.DataFrame'>\n",
            "RangeIndex: 120 entries, 0 to 119\n",
            "Data columns (total 4 columns):\n",
            " #   Column      Non-Null Count  Dtype  \n",
            "---  ------      --------------  -----  \n",
            " 0   start_date  120 non-null    object \n",
            " 1   end_date    120 non-null    object \n",
            " 2   prod        120 non-null    float64\n",
            " 3   region_id   120 non-null    int64  \n",
            "dtypes: float64(1), int64(1), object(2)\n",
            "memory usage: 3.9+ KB\n"
          ]
        }
      ]
    },
    {
      "cell_type": "code",
      "source": [
        "final_df.to_csv('predicted_production_qty.csv')"
      ],
      "metadata": {
        "id": "sPuzHtJRJc0B"
      },
      "execution_count": null,
      "outputs": []
    }
  ]
}